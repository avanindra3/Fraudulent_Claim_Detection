{
 "cells": [
  {
   "cell_type": "markdown",
   "metadata": {
    "id": "uJ6cv25EDPWV"
   },
   "source": [
    "## **Fraudulent Claim Detection**"
   ]
  },
  {
   "cell_type": "markdown",
   "metadata": {
    "id": "_rLrWLwZDPWW"
   },
   "source": [
    "## Problem Statement\n",
    "Global Insure, a leading insurance company, processes thousands of claims annually. However, a significant percentage of these claims turn out to be fraudulent, resulting in considerable financial losses. The company’s current process for identifying fraudulent claims involves manual inspections, which is time-consuming and inefficient. Fraudulent claims are often detected too late in the process, after the company has already paid out significant amounts. Global Insure wants to improve its fraud detection process using data-driven insights to classify claims as fraudulent or legitimate early in the approval process. This would minimise financial losses and optimise the overall claims handling process.\n",
    "\n",
    "## Business Objective\n",
    "Global Insure wants to build a model to classify insurance claims as either fraudulent or legitimate based on historical claim details and customer profiles. By using features like claim amounts, customer profiles and claim types, the company aims to predict which claims are likely to be fraudulent before they are approved.\n",
    "\n",
    "\n",
    "Based on this assignment, you have to answer the following questions:<br>\n",
    "\n",
    "● How can we analyse historical claim data to detect patterns that indicate fraudulent claims?<br>\n",
    "● Which features are most predictive of fraudulent behaviour?<br>\n",
    "● Can we predict the likelihood of fraud for an incoming claim, based on past data?<br>\n",
    "● What insights can be drawn from the model that can help in improving the fraud detection process?<br>"
   ]
  },
  {
   "cell_type": "markdown",
   "metadata": {
    "id": "dCp1H_XyDPWX"
   },
   "source": [
    "## Assignment Tasks\n",
    "You need to perform the following steps for successfully completing this assignment:\n",
    "1. Data Preparation\n",
    "2. Data Cleaning\n",
    "3. Train Validation Split 70-30\n",
    "4. EDA on Training Data\n",
    "5. EDA on Validation Data (optional)\n",
    "6. Feature Engineering\n",
    "7. Model Building\n",
    "8. Predicting and Model Evaluation"
   ]
  },
  {
   "cell_type": "markdown",
   "metadata": {
    "id": "PPnbScj6sHfw"
   },
   "source": [
    "## Data Dictionary\n",
    "The insurance claims data has 40 Columns and 1000 Rows. Following data dictionary provides the description for each column present in dataset:<br>\n",
    "\n",
    "<table>\n",
    "  <thead>\n",
    "    <tr>\n",
    "      <th>Column Name</th>\n",
    "      <th>Description</th>\n",
    "    </tr>\n",
    "  </thead>\n",
    "  <tbody>\n",
    "    <tr>\n",
    "      <td>months_as_customer</td>\n",
    "      <td>Represents the duration in months that a customer has been associated with the insurance company.</td>\n",
    "    </tr>\n",
    "    <tr>\n",
    "      <td>age</td>\n",
    "      <td>Represents the age of the insured person.</td>\n",
    "    </tr>\n",
    "    <tr>\n",
    "      <td>policy_number</td>\n",
    "      <td>Represents a unique identifier for each insurance policy.</td>\n",
    "    </tr>\n",
    "    <tr>\n",
    "      <td>policy_bind_date</td>\n",
    "      <td>Represents the date when the insurance policy was initiated.</td>\n",
    "    </tr>\n",
    "    <tr>\n",
    "      <td>policy_state</td>\n",
    "      <td>Represents the state where the insurance policy is applicable.</td>\n",
    "    </tr>\n",
    "    <tr>\n",
    "      <td>policy_csl</td>\n",
    "      <td>Represents the combined single limit for the insurance policy.</td>\n",
    "    </tr>\n",
    "    <tr>\n",
    "      <td>policy_deductable</td>\n",
    "      <td>Represents the amount that the insured person needs to pay before the insurance coverage kicks in.</td>\n",
    "    </tr>\n",
    "    <tr>\n",
    "      <td>policy_annual_premium</td>\n",
    "      <td>Represents the yearly cost of the insurance policy.</td>\n",
    "    </tr>\n",
    "    <tr>\n",
    "      <td>umbrella_limit</td>\n",
    "      <td>Represents an additional layer of liability coverage provided beyond the limits of the primary insurance policy.</td>\n",
    "    </tr>\n",
    "    <tr>\n",
    "      <td>insured_zip</td>\n",
    "      <td>Represents the zip code of the insured person.</td>\n",
    "    </tr>\n",
    "    <tr>\n",
    "      <td>insured_sex</td>\n",
    "      <td>Represents the gender of the insured person.</td>\n",
    "    </tr>\n",
    "    <tr>\n",
    "      <td>insured_education_level</td>\n",
    "      <td>Represents the highest educational qualification of the insured person.</td>\n",
    "    </tr>\n",
    "    <tr>\n",
    "      <td>insured_occupation</td>\n",
    "      <td>Represents the profession or job of the insured person.</td>\n",
    "    </tr>\n",
    "    <tr>\n",
    "      <td>insured_hobbies</td>\n",
    "      <td>Represents the hobbies or leisure activities of the insured person.</td>\n",
    "    </tr>\n",
    "    <tr>\n",
    "      <td>insured_relationship</td>\n",
    "      <td>Represents the relationship of the insured person to the policyholder.</td>\n",
    "    </tr>\n",
    "    <tr>\n",
    "      <td>capital-gains</td>\n",
    "      <td>Represents the profit earned from the sale of assets such as stocks, bonds, or real estate.</td>\n",
    "    </tr>\n",
    "    <tr>\n",
    "      <td>capital-loss</td>\n",
    "      <td>Represents the loss incurred from the sale of assets such as stocks, bonds, or real estate.</td>\n",
    "    </tr>\n",
    "    <tr>\n",
    "      <td>incident_date</td>\n",
    "      <td>Represents the date when the incident or accident occurred.</td>\n",
    "    </tr>\n",
    "    <tr>\n",
    "      <td>incident_type</td>\n",
    "      <td>Represents the category or type of incident that led to the claim.</td>\n",
    "    </tr>\n",
    "    <tr>\n",
    "      <td>collision_type</td>\n",
    "      <td>Represents the type of collision that occurred in an accident.</td>\n",
    "    </tr>\n",
    "    <tr>\n",
    "      <td>incident_severity</td>\n",
    "      <td>Represents the extent of damage or injury caused by the incident.</td>\n",
    "    </tr>\n",
    "    <tr>\n",
    "      <td>authorities_contacted</td>\n",
    "      <td>Represents the authorities or agencies that were contacted after the incident.</td>\n",
    "    </tr>\n",
    "    <tr>\n",
    "      <td>incident_state</td>\n",
    "      <td>Represents the state where the incident occurred.</td>\n",
    "    </tr>\n",
    "    <tr>\n",
    "      <td>incident_city</td>\n",
    "      <td>Represents the city where the incident occurred.</td>\n",
    "    </tr>\n",
    "    <tr>\n",
    "      <td>incident_location</td>\n",
    "      <td>Represents the specific location or address where the incident occurred.</td>\n",
    "    </tr>\n",
    "    <tr>\n",
    "      <td>incident_hour_of_the_day</td>\n",
    "      <td>Represents the hour of the day when the incident occurred.</td>\n",
    "    </tr>\n",
    "    <tr>\n",
    "      <td>number_of_vehicles_involved</td>\n",
    "      <td>Represents the total number of vehicles involved in the incident.</td>\n",
    "    </tr>\n",
    "    <tr>\n",
    "      <td>property_damage</td>\n",
    "      <td>Represents whether there was any damage to property in the incident.</td>\n",
    "    </tr>\n",
    "    <tr>\n",
    "      <td>bodily_injuries</td>\n",
    "      <td>Represents the number of bodily injuries resulting from the incident.</td>\n",
    "    </tr>\n",
    "    <tr>\n",
    "      <td>witnesses</td>\n",
    "      <td>Represents the number of witnesses present at the scene of the incident.</td>\n",
    "    </tr>\n",
    "    <tr>\n",
    "      <td>police_report_available</td>\n",
    "      <td>Represents whether a police report is available for the incident.</td>\n",
    "    </tr>\n",
    "    <tr>\n",
    "      <td>total_claim_amount</td>\n",
    "      <td>Represents the total amount claimed by the insured person for the incident.</td>\n",
    "    </tr>\n",
    "    <tr>\n",
    "      <td>injury_claim</td>\n",
    "      <td>Represents the amount claimed for injuries sustained in the incident.</td>\n",
    "    </tr>\n",
    "    <tr>\n",
    "      <td>property_claim</td>\n",
    "      <td>Represents the amount claimed for property damage in the incident.</td>\n",
    "    </tr>\n",
    "    <tr>\n",
    "      <td>vehicle_claim</td>\n",
    "      <td>Represents the amount claimed for vehicle damage in the incident.</td>\n",
    "    </tr>\n",
    "    <tr>\n",
    "      <td>auto_make</td>\n",
    "      <td>Represents the manufacturer of the insured vehicle.</td>\n",
    "    </tr>\n",
    "    <tr>\n",
    "      <td>auto_model</td>\n",
    "      <td>Represents the specific model of the insured vehicle.</td>\n",
    "    </tr>\n",
    "    <tr>\n",
    "      <td>auto_year</td>\n",
    "      <td>Represents the year of manufacture of the insured vehicle.</td>\n",
    "    </tr>\n",
    "    <tr>\n",
    "      <td>fraud_reported</td>\n",
    "      <td>Represents whether the claim was reported as fraudulent or not.</td>\n",
    "    </tr>\n",
    "    <tr>\n",
    "      <td>_c39</td>\n",
    "      <td>Represents an unknown or unspecified variable.</td>\n",
    "    </tr>\n",
    "  </tbody>\n",
    "</table>"
   ]
  },
  {
   "cell_type": "markdown",
   "metadata": {
    "id": "2Hfg3nHjDPWY"
   },
   "source": [
    "## **1. Data Preparation**\n",
    "In this step, read the dataset provided in CSV format and look at basic statistics of the data, including preview of data, dimension of data, column descriptions and data types."
   ]
  },
  {
   "cell_type": "markdown",
   "metadata": {
    "id": "2xZBs5L_DPWY"
   },
   "source": [
    "### **1.0 Import Libraries**"
   ]
  },
  {
   "cell_type": "code",
   "execution_count": 7,
   "metadata": {
    "id": "2xUZYP92DPWY"
   },
   "outputs": [],
   "source": [
    "# Supress unnecessary warnings\n",
    "import warnings\n",
    "warnings.filterwarnings(\"ignore\")"
   ]
  },
  {
   "cell_type": "code",
   "execution_count": 8,
   "metadata": {
    "id": "6glz5HkPDPWZ"
   },
   "outputs": [],
   "source": [
    "# Import necessary libraries\n",
    "import numpy as np\n",
    "import pandas as pd\n",
    "import seaborn as sns\n",
    "import matplotlib.pyplot as plt"
   ]
  },
  {
   "cell_type": "markdown",
   "metadata": {
    "id": "D8-RBUdWDPWZ"
   },
   "source": [
    "### **1.1 Load the Data**"
   ]
  },
  {
   "cell_type": "code",
   "execution_count": 10,
   "metadata": {
    "id": "kP0JaSjJDPWZ"
   },
   "outputs": [],
   "source": [
    "# Load the dataset\n",
    "data = pd.read_csv('insurance_claims.csv')"
   ]
  },
  {
   "cell_type": "code",
   "execution_count": 11,
   "metadata": {
    "id": "qaR4TkqTDPWZ"
   },
   "outputs": [
    {
     "data": {
      "text/html": [
       "<div>\n",
       "<style scoped>\n",
       "    .dataframe tbody tr th:only-of-type {\n",
       "        vertical-align: middle;\n",
       "    }\n",
       "\n",
       "    .dataframe tbody tr th {\n",
       "        vertical-align: top;\n",
       "    }\n",
       "\n",
       "    .dataframe thead th {\n",
       "        text-align: right;\n",
       "    }\n",
       "</style>\n",
       "<table border=\"1\" class=\"dataframe\">\n",
       "  <thead>\n",
       "    <tr style=\"text-align: right;\">\n",
       "      <th></th>\n",
       "      <th>months_as_customer</th>\n",
       "      <th>age</th>\n",
       "      <th>policy_number</th>\n",
       "      <th>policy_bind_date</th>\n",
       "      <th>policy_state</th>\n",
       "      <th>policy_csl</th>\n",
       "      <th>policy_deductable</th>\n",
       "      <th>policy_annual_premium</th>\n",
       "      <th>umbrella_limit</th>\n",
       "      <th>insured_zip</th>\n",
       "      <th>...</th>\n",
       "      <th>police_report_available</th>\n",
       "      <th>total_claim_amount</th>\n",
       "      <th>injury_claim</th>\n",
       "      <th>property_claim</th>\n",
       "      <th>vehicle_claim</th>\n",
       "      <th>auto_make</th>\n",
       "      <th>auto_model</th>\n",
       "      <th>auto_year</th>\n",
       "      <th>fraud_reported</th>\n",
       "      <th>_c39</th>\n",
       "    </tr>\n",
       "  </thead>\n",
       "  <tbody>\n",
       "    <tr>\n",
       "      <th>0</th>\n",
       "      <td>328</td>\n",
       "      <td>48</td>\n",
       "      <td>521585</td>\n",
       "      <td>2014-10-17</td>\n",
       "      <td>OH</td>\n",
       "      <td>250/500</td>\n",
       "      <td>1000</td>\n",
       "      <td>1406.91</td>\n",
       "      <td>0</td>\n",
       "      <td>466132</td>\n",
       "      <td>...</td>\n",
       "      <td>YES</td>\n",
       "      <td>71610</td>\n",
       "      <td>6510</td>\n",
       "      <td>13020</td>\n",
       "      <td>52080</td>\n",
       "      <td>Saab</td>\n",
       "      <td>92x</td>\n",
       "      <td>2004</td>\n",
       "      <td>Y</td>\n",
       "      <td>NaN</td>\n",
       "    </tr>\n",
       "    <tr>\n",
       "      <th>1</th>\n",
       "      <td>228</td>\n",
       "      <td>42</td>\n",
       "      <td>342868</td>\n",
       "      <td>2006-06-27</td>\n",
       "      <td>IN</td>\n",
       "      <td>250/500</td>\n",
       "      <td>2000</td>\n",
       "      <td>1197.22</td>\n",
       "      <td>5000000</td>\n",
       "      <td>468176</td>\n",
       "      <td>...</td>\n",
       "      <td>?</td>\n",
       "      <td>5070</td>\n",
       "      <td>780</td>\n",
       "      <td>780</td>\n",
       "      <td>3510</td>\n",
       "      <td>Mercedes</td>\n",
       "      <td>E400</td>\n",
       "      <td>2007</td>\n",
       "      <td>Y</td>\n",
       "      <td>NaN</td>\n",
       "    </tr>\n",
       "    <tr>\n",
       "      <th>2</th>\n",
       "      <td>134</td>\n",
       "      <td>29</td>\n",
       "      <td>687698</td>\n",
       "      <td>2000-09-06</td>\n",
       "      <td>OH</td>\n",
       "      <td>100/300</td>\n",
       "      <td>2000</td>\n",
       "      <td>1413.14</td>\n",
       "      <td>5000000</td>\n",
       "      <td>430632</td>\n",
       "      <td>...</td>\n",
       "      <td>NO</td>\n",
       "      <td>34650</td>\n",
       "      <td>7700</td>\n",
       "      <td>3850</td>\n",
       "      <td>23100</td>\n",
       "      <td>Dodge</td>\n",
       "      <td>RAM</td>\n",
       "      <td>2007</td>\n",
       "      <td>N</td>\n",
       "      <td>NaN</td>\n",
       "    </tr>\n",
       "    <tr>\n",
       "      <th>3</th>\n",
       "      <td>256</td>\n",
       "      <td>41</td>\n",
       "      <td>227811</td>\n",
       "      <td>1990-05-25</td>\n",
       "      <td>IL</td>\n",
       "      <td>250/500</td>\n",
       "      <td>2000</td>\n",
       "      <td>1415.74</td>\n",
       "      <td>6000000</td>\n",
       "      <td>608117</td>\n",
       "      <td>...</td>\n",
       "      <td>NO</td>\n",
       "      <td>63400</td>\n",
       "      <td>6340</td>\n",
       "      <td>6340</td>\n",
       "      <td>50720</td>\n",
       "      <td>Chevrolet</td>\n",
       "      <td>Tahoe</td>\n",
       "      <td>2014</td>\n",
       "      <td>Y</td>\n",
       "      <td>NaN</td>\n",
       "    </tr>\n",
       "    <tr>\n",
       "      <th>4</th>\n",
       "      <td>228</td>\n",
       "      <td>44</td>\n",
       "      <td>367455</td>\n",
       "      <td>2014-06-06</td>\n",
       "      <td>IL</td>\n",
       "      <td>500/1000</td>\n",
       "      <td>1000</td>\n",
       "      <td>1583.91</td>\n",
       "      <td>6000000</td>\n",
       "      <td>610706</td>\n",
       "      <td>...</td>\n",
       "      <td>NO</td>\n",
       "      <td>6500</td>\n",
       "      <td>1300</td>\n",
       "      <td>650</td>\n",
       "      <td>4550</td>\n",
       "      <td>Accura</td>\n",
       "      <td>RSX</td>\n",
       "      <td>2009</td>\n",
       "      <td>N</td>\n",
       "      <td>NaN</td>\n",
       "    </tr>\n",
       "  </tbody>\n",
       "</table>\n",
       "<p>5 rows × 40 columns</p>\n",
       "</div>"
      ],
      "text/plain": [
       "   months_as_customer  age  policy_number policy_bind_date policy_state  \\\n",
       "0                 328   48         521585       2014-10-17           OH   \n",
       "1                 228   42         342868       2006-06-27           IN   \n",
       "2                 134   29         687698       2000-09-06           OH   \n",
       "3                 256   41         227811       1990-05-25           IL   \n",
       "4                 228   44         367455       2014-06-06           IL   \n",
       "\n",
       "  policy_csl  policy_deductable  policy_annual_premium  umbrella_limit  \\\n",
       "0    250/500               1000                1406.91               0   \n",
       "1    250/500               2000                1197.22         5000000   \n",
       "2    100/300               2000                1413.14         5000000   \n",
       "3    250/500               2000                1415.74         6000000   \n",
       "4   500/1000               1000                1583.91         6000000   \n",
       "\n",
       "   insured_zip  ... police_report_available total_claim_amount injury_claim  \\\n",
       "0       466132  ...                     YES              71610         6510   \n",
       "1       468176  ...                       ?               5070          780   \n",
       "2       430632  ...                      NO              34650         7700   \n",
       "3       608117  ...                      NO              63400         6340   \n",
       "4       610706  ...                      NO               6500         1300   \n",
       "\n",
       "  property_claim vehicle_claim  auto_make  auto_model auto_year  \\\n",
       "0          13020         52080       Saab         92x      2004   \n",
       "1            780          3510   Mercedes        E400      2007   \n",
       "2           3850         23100      Dodge         RAM      2007   \n",
       "3           6340         50720  Chevrolet       Tahoe      2014   \n",
       "4            650          4550     Accura         RSX      2009   \n",
       "\n",
       "  fraud_reported _c39  \n",
       "0              Y  NaN  \n",
       "1              Y  NaN  \n",
       "2              N  NaN  \n",
       "3              Y  NaN  \n",
       "4              N  NaN  \n",
       "\n",
       "[5 rows x 40 columns]"
      ]
     },
     "execution_count": 11,
     "metadata": {},
     "output_type": "execute_result"
    }
   ],
   "source": [
    "# Check at the first few entries\n",
    "data.head()"
   ]
  },
  {
   "cell_type": "code",
   "execution_count": 12,
   "metadata": {
    "id": "TK9_lipzDPWa"
   },
   "outputs": [
    {
     "data": {
      "text/plain": [
       "(1000, 40)"
      ]
     },
     "execution_count": 12,
     "metadata": {},
     "output_type": "execute_result"
    }
   ],
   "source": [
    "# Inspect the shape of the dataset\n",
    "data.shape"
   ]
  },
  {
   "cell_type": "code",
   "execution_count": 13,
   "metadata": {
    "id": "Fd0PADNIuqov"
   },
   "outputs": [
    {
     "name": "stdout",
     "output_type": "stream",
     "text": [
      "<class 'pandas.core.frame.DataFrame'>\n",
      "RangeIndex: 1000 entries, 0 to 999\n",
      "Data columns (total 40 columns):\n",
      " #   Column                       Non-Null Count  Dtype  \n",
      "---  ------                       --------------  -----  \n",
      " 0   months_as_customer           1000 non-null   int64  \n",
      " 1   age                          1000 non-null   int64  \n",
      " 2   policy_number                1000 non-null   int64  \n",
      " 3   policy_bind_date             1000 non-null   object \n",
      " 4   policy_state                 1000 non-null   object \n",
      " 5   policy_csl                   1000 non-null   object \n",
      " 6   policy_deductable            1000 non-null   int64  \n",
      " 7   policy_annual_premium        1000 non-null   float64\n",
      " 8   umbrella_limit               1000 non-null   int64  \n",
      " 9   insured_zip                  1000 non-null   int64  \n",
      " 10  insured_sex                  1000 non-null   object \n",
      " 11  insured_education_level      1000 non-null   object \n",
      " 12  insured_occupation           1000 non-null   object \n",
      " 13  insured_hobbies              1000 non-null   object \n",
      " 14  insured_relationship         1000 non-null   object \n",
      " 15  capital-gains                1000 non-null   int64  \n",
      " 16  capital-loss                 1000 non-null   int64  \n",
      " 17  incident_date                1000 non-null   object \n",
      " 18  incident_type                1000 non-null   object \n",
      " 19  collision_type               1000 non-null   object \n",
      " 20  incident_severity            1000 non-null   object \n",
      " 21  authorities_contacted        909 non-null    object \n",
      " 22  incident_state               1000 non-null   object \n",
      " 23  incident_city                1000 non-null   object \n",
      " 24  incident_location            1000 non-null   object \n",
      " 25  incident_hour_of_the_day     1000 non-null   int64  \n",
      " 26  number_of_vehicles_involved  1000 non-null   int64  \n",
      " 27  property_damage              1000 non-null   object \n",
      " 28  bodily_injuries              1000 non-null   int64  \n",
      " 29  witnesses                    1000 non-null   int64  \n",
      " 30  police_report_available      1000 non-null   object \n",
      " 31  total_claim_amount           1000 non-null   int64  \n",
      " 32  injury_claim                 1000 non-null   int64  \n",
      " 33  property_claim               1000 non-null   int64  \n",
      " 34  vehicle_claim                1000 non-null   int64  \n",
      " 35  auto_make                    1000 non-null   object \n",
      " 36  auto_model                   1000 non-null   object \n",
      " 37  auto_year                    1000 non-null   int64  \n",
      " 38  fraud_reported               1000 non-null   object \n",
      " 39  _c39                         0 non-null      float64\n",
      "dtypes: float64(2), int64(17), object(21)\n",
      "memory usage: 312.6+ KB\n"
     ]
    }
   ],
   "source": [
    "# Inspect the features in the dataset\n",
    "data.info()"
   ]
  },
  {
   "cell_type": "markdown",
   "metadata": {
    "id": "YRijmf2EDPWa"
   },
   "source": [
    "## **2. Data Cleaning** <font color = red>[10 marks]</font>"
   ]
  },
  {
   "cell_type": "markdown",
   "metadata": {
    "id": "DxXOACINDPWa"
   },
   "source": [
    "### **2.1 Handle null values** <font color = red>[2 marks]</font>"
   ]
  },
  {
   "cell_type": "markdown",
   "metadata": {
    "id": "kJDjZSkmDPWa"
   },
   "source": [
    "#### **2.1.1** Examine the columns to determine if any value or column needs to be treated <font color=\"red\">[1 Mark]</font>"
   ]
  },
  {
   "cell_type": "code",
   "execution_count": 17,
   "metadata": {
    "id": "3B4OtvQlDPWa"
   },
   "outputs": [
    {
     "data": {
      "text/plain": [
       "months_as_customer                0\n",
       "age                               0\n",
       "policy_number                     0\n",
       "policy_bind_date                  0\n",
       "policy_state                      0\n",
       "policy_csl                        0\n",
       "policy_deductable                 0\n",
       "policy_annual_premium             0\n",
       "umbrella_limit                    0\n",
       "insured_zip                       0\n",
       "insured_sex                       0\n",
       "insured_education_level           0\n",
       "insured_occupation                0\n",
       "insured_hobbies                   0\n",
       "insured_relationship              0\n",
       "capital-gains                     0\n",
       "capital-loss                      0\n",
       "incident_date                     0\n",
       "incident_type                     0\n",
       "collision_type                    0\n",
       "incident_severity                 0\n",
       "authorities_contacted            91\n",
       "incident_state                    0\n",
       "incident_city                     0\n",
       "incident_location                 0\n",
       "incident_hour_of_the_day          0\n",
       "number_of_vehicles_involved       0\n",
       "property_damage                   0\n",
       "bodily_injuries                   0\n",
       "witnesses                         0\n",
       "police_report_available           0\n",
       "total_claim_amount                0\n",
       "injury_claim                      0\n",
       "property_claim                    0\n",
       "vehicle_claim                     0\n",
       "auto_make                         0\n",
       "auto_model                        0\n",
       "auto_year                         0\n",
       "fraud_reported                    0\n",
       "_c39                           1000\n",
       "dtype: int64"
      ]
     },
     "execution_count": 17,
     "metadata": {},
     "output_type": "execute_result"
    }
   ],
   "source": [
    "# Check the number of missing values in each column\n",
    "data.isnull().sum()"
   ]
  },
  {
   "cell_type": "markdown",
   "metadata": {
    "id": "AE6K2iqkDPWb"
   },
   "source": [
    "#### **2.1.2** Handle rows containing null values <font color=\"red\">[1 Mark]</font>"
   ]
  },
  {
   "cell_type": "code",
   "execution_count": 19,
   "metadata": {
    "id": "88PX2r5hDPWb"
   },
   "outputs": [],
   "source": [
    "# Handle the rows containing null values\n",
    "data = data.dropna(subset=['authorities_contacted'])"
   ]
  },
  {
   "cell_type": "code",
   "execution_count": 20,
   "metadata": {},
   "outputs": [
    {
     "data": {
      "text/plain": [
       "months_as_customer               0\n",
       "age                              0\n",
       "policy_number                    0\n",
       "policy_bind_date                 0\n",
       "policy_state                     0\n",
       "policy_csl                       0\n",
       "policy_deductable                0\n",
       "policy_annual_premium            0\n",
       "umbrella_limit                   0\n",
       "insured_zip                      0\n",
       "insured_sex                      0\n",
       "insured_education_level          0\n",
       "insured_occupation               0\n",
       "insured_hobbies                  0\n",
       "insured_relationship             0\n",
       "capital-gains                    0\n",
       "capital-loss                     0\n",
       "incident_date                    0\n",
       "incident_type                    0\n",
       "collision_type                   0\n",
       "incident_severity                0\n",
       "authorities_contacted            0\n",
       "incident_state                   0\n",
       "incident_city                    0\n",
       "incident_location                0\n",
       "incident_hour_of_the_day         0\n",
       "number_of_vehicles_involved      0\n",
       "property_damage                  0\n",
       "bodily_injuries                  0\n",
       "witnesses                        0\n",
       "police_report_available          0\n",
       "total_claim_amount               0\n",
       "injury_claim                     0\n",
       "property_claim                   0\n",
       "vehicle_claim                    0\n",
       "auto_make                        0\n",
       "auto_model                       0\n",
       "auto_year                        0\n",
       "fraud_reported                   0\n",
       "_c39                           909\n",
       "dtype: int64"
      ]
     },
     "execution_count": 20,
     "metadata": {},
     "output_type": "execute_result"
    }
   ],
   "source": [
    "data.isnull().sum()"
   ]
  },
  {
   "cell_type": "markdown",
   "metadata": {
    "id": "202JyqOjDPWb"
   },
   "source": [
    "### **2.2 Identify and handle redundant values and columns** <font color = red>[5 marks]</font>"
   ]
  },
  {
   "cell_type": "markdown",
   "metadata": {
    "id": "fSh2wYZoDPWb"
   },
   "source": [
    "#### **2.2.1** Examine the columns to determine if any value or column needs to be treated <font color=\"red\">[2 Mark]</font>"
   ]
  },
  {
   "cell_type": "code",
   "execution_count": 23,
   "metadata": {
    "id": "1x0Cn8BiDPWb"
   },
   "outputs": [
    {
     "name": "stdout",
     "output_type": "stream",
     "text": [
      "months_as_customer\n",
      "285    7\n",
      "128    7\n",
      "254    7\n",
      "230    7\n",
      "259    6\n",
      "      ..\n",
      "60     1\n",
      "447    1\n",
      "414    1\n",
      "352    1\n",
      "17     1\n",
      "Name: count, Length: 384, dtype: int64 \n",
      "\n",
      "\n",
      "age\n",
      "43    45\n",
      "41    43\n",
      "39    43\n",
      "38    40\n",
      "37    39\n",
      "30    38\n",
      "32    36\n",
      "34    36\n",
      "31    35\n",
      "33    35\n",
      "40    34\n",
      "29    32\n",
      "46    31\n",
      "42    30\n",
      "36    29\n",
      "44    29\n",
      "28    28\n",
      "35    26\n",
      "26    25\n",
      "45    24\n",
      "48    23\n",
      "47    22\n",
      "27    21\n",
      "57    14\n",
      "50    13\n",
      "53    13\n",
      "55    12\n",
      "25    12\n",
      "54    10\n",
      "61    10\n",
      "49     9\n",
      "60     9\n",
      "56     8\n",
      "51     8\n",
      "24     8\n",
      "58     8\n",
      "23     7\n",
      "21     6\n",
      "52     4\n",
      "62     4\n",
      "59     4\n",
      "64     2\n",
      "19     1\n",
      "20     1\n",
      "22     1\n",
      "63     1\n",
      "Name: count, dtype: int64 \n",
      "\n",
      "\n",
      "policy_number\n",
      "521585    1\n",
      "797634    1\n",
      "261905    1\n",
      "674485    1\n",
      "223404    1\n",
      "         ..\n",
      "613226    1\n",
      "804410    1\n",
      "553565    1\n",
      "399524    1\n",
      "556080    1\n",
      "Name: count, Length: 909, dtype: int64 \n",
      "\n",
      "\n",
      "policy_bind_date\n",
      "2006-01-01    3\n",
      "1992-04-28    3\n",
      "1992-08-05    3\n",
      "1992-01-05    2\n",
      "2002-12-21    2\n",
      "             ..\n",
      "2013-07-07    1\n",
      "2003-07-05    1\n",
      "1995-02-18    1\n",
      "2014-12-13    1\n",
      "1996-11-11    1\n",
      "Name: count, Length: 865, dtype: int64 \n",
      "\n",
      "\n",
      "policy_state\n",
      "OH    319\n",
      "IL    310\n",
      "IN    280\n",
      "Name: count, dtype: int64 \n",
      "\n",
      "\n",
      "policy_csl\n",
      "100/300     326\n",
      "250/500     316\n",
      "500/1000    267\n",
      "Name: count, dtype: int64 \n",
      "\n",
      "\n",
      "policy_deductable\n",
      "1000    317\n",
      "500     315\n",
      "2000    277\n",
      "Name: count, dtype: int64 \n",
      "\n",
      "\n",
      "policy_annual_premium\n",
      "1362.87    2\n",
      "1215.36    2\n",
      "1524.45    2\n",
      "1374.22    2\n",
      "1558.29    2\n",
      "          ..\n",
      "929.70     1\n",
      "1829.63    1\n",
      "904.70     1\n",
      "1243.84    1\n",
      "766.19     1\n",
      "Name: count, Length: 903, dtype: int64 \n",
      "\n",
      "\n",
      "umbrella_limit\n",
      " 0           726\n",
      " 6000000      50\n",
      " 5000000      43\n",
      " 4000000      37\n",
      " 7000000      24\n",
      " 3000000      11\n",
      " 8000000       8\n",
      " 9000000       4\n",
      " 2000000       3\n",
      " 10000000      2\n",
      "-1000000       1\n",
      "Name: count, dtype: int64 \n",
      "\n",
      "\n",
      "insured_zip\n",
      "477695    2\n",
      "469429    2\n",
      "456602    2\n",
      "431202    2\n",
      "446895    2\n",
      "         ..\n",
      "460722    1\n",
      "618632    1\n",
      "452204    1\n",
      "454530    1\n",
      "612260    1\n",
      "Name: count, Length: 904, dtype: int64 \n",
      "\n",
      "\n",
      "insured_sex\n",
      "FEMALE    494\n",
      "MALE      415\n",
      "Name: count, dtype: int64 \n",
      "\n",
      "\n",
      "insured_education_level\n",
      "High School    146\n",
      "JD             145\n",
      "MD             132\n",
      "Masters        130\n",
      "Associate      129\n",
      "PhD            115\n",
      "College        112\n",
      "Name: count, dtype: int64 \n",
      "\n",
      "\n",
      "insured_occupation\n",
      "machine-op-inspct    87\n",
      "prof-specialty       77\n",
      "tech-support         71\n",
      "craft-repair         70\n",
      "sales                70\n",
      "exec-managerial      68\n",
      "transport-moving     67\n",
      "priv-house-serv      66\n",
      "other-service        61\n",
      "armed-forces         59\n",
      "protective-serv      58\n",
      "adm-clerical         54\n",
      "handlers-cleaners    53\n",
      "farming-fishing      48\n",
      "Name: count, dtype: int64 \n",
      "\n",
      "\n",
      "insured_hobbies\n",
      "reading           58\n",
      "exercise          54\n",
      "bungie-jumping    52\n",
      "camping           50\n",
      "movies            50\n",
      "hiking            50\n",
      "yachting          49\n",
      "paintball         49\n",
      "golf              47\n",
      "skydiving         47\n",
      "kayaking          46\n",
      "base-jumping      43\n",
      "board-games       43\n",
      "chess             43\n",
      "video-games       43\n",
      "polo              42\n",
      "dancing           40\n",
      "sleeping          38\n",
      "cross-fit         34\n",
      "basketball        31\n",
      "Name: count, dtype: int64 \n",
      "\n",
      "\n",
      "insured_relationship\n",
      "own-child         165\n",
      "other-relative    164\n",
      "husband           156\n",
      "not-in-family     156\n",
      "wife              139\n",
      "unmarried         129\n",
      "Name: count, dtype: int64 \n",
      "\n",
      "\n",
      "capital-gains\n",
      "0        466\n",
      "46300      5\n",
      "51500      4\n",
      "56700      3\n",
      "51100      3\n",
      "        ... \n",
      "48800      1\n",
      "54800      1\n",
      "64000      1\n",
      "56900      1\n",
      "70900      1\n",
      "Name: count, Length: 312, dtype: int64 \n",
      "\n",
      "\n",
      "capital-loss\n",
      " 0        432\n",
      "-50300      5\n",
      "-45300      4\n",
      "-31400      4\n",
      "-51000      4\n",
      "         ... \n",
      "-45500      1\n",
      "-71000      1\n",
      "-67300      1\n",
      "-19700      1\n",
      "-32200      1\n",
      "Name: count, Length: 341, dtype: int64 \n",
      "\n",
      "\n",
      "incident_date\n",
      "2015-02-02    25\n",
      "2015-01-07    24\n",
      "2015-02-17    23\n",
      "2015-01-10    23\n",
      "2015-02-04    23\n",
      "2015-01-24    21\n",
      "2015-01-08    21\n",
      "2015-01-30    20\n",
      "2015-01-19    20\n",
      "2015-02-06    19\n",
      "2015-01-14    19\n",
      "2015-02-12    19\n",
      "2015-01-13    18\n",
      "2015-01-12    18\n",
      "2015-02-14    18\n",
      "2015-01-31    18\n",
      "2015-02-23    18\n",
      "2015-02-08    17\n",
      "2015-02-22    17\n",
      "2015-01-21    17\n",
      "2015-02-01    17\n",
      "2015-01-09    17\n",
      "2015-02-21    16\n",
      "2015-01-03    16\n",
      "2015-02-15    16\n",
      "2015-01-20    16\n",
      "2015-02-25    16\n",
      "2015-01-01    16\n",
      "2015-01-06    16\n",
      "2015-02-28    16\n",
      "2015-01-18    15\n",
      "2015-01-16    15\n",
      "2015-02-13    15\n",
      "2015-02-24    15\n",
      "2015-02-18    14\n",
      "2015-02-26    14\n",
      "2015-02-05    14\n",
      "2015-02-16    14\n",
      "2015-01-23    13\n",
      "2015-01-28    13\n",
      "2015-02-20    13\n",
      "2015-01-15    13\n",
      "2015-01-22    13\n",
      "2015-01-17    13\n",
      "2015-01-27    12\n",
      "2015-03-01    12\n",
      "2015-02-27    12\n",
      "2015-02-03    11\n",
      "2015-01-04    11\n",
      "2015-02-09    11\n",
      "2015-01-29    10\n",
      "2015-01-26    10\n",
      "2015-01-25    10\n",
      "2015-02-11     9\n",
      "2015-01-11     9\n",
      "2015-01-02     9\n",
      "2015-02-07     9\n",
      "2015-02-19     8\n",
      "2015-02-10     7\n",
      "2015-01-05     5\n",
      "Name: count, dtype: int64 \n",
      "\n",
      "\n",
      "incident_type\n",
      "Multi-vehicle Collision     419\n",
      "Single Vehicle Collision    403\n",
      "Vehicle Theft                53\n",
      "Parked Car                   34\n",
      "Name: count, dtype: int64 \n",
      "\n",
      "\n",
      "collision_type\n",
      "Rear Collision     292\n",
      "Side Collision     276\n",
      "Front Collision    254\n",
      "?                   87\n",
      "Name: count, dtype: int64 \n",
      "\n",
      "\n",
      "incident_severity\n",
      "Minor Damage      304\n",
      "Total Loss        280\n",
      "Major Damage      276\n",
      "Trivial Damage     49\n",
      "Name: count, dtype: int64 \n",
      "\n",
      "\n",
      "authorities_contacted\n",
      "Police       292\n",
      "Fire         223\n",
      "Other        198\n",
      "Ambulance    196\n",
      "Name: count, dtype: int64 \n",
      "\n",
      "\n",
      "incident_state\n",
      "NY    246\n",
      "SC    225\n",
      "WV    196\n",
      "NC     97\n",
      "VA     96\n",
      "PA     29\n",
      "OH     20\n",
      "Name: count, dtype: int64 \n",
      "\n",
      "\n",
      "incident_city\n",
      "Springfield    145\n",
      "Columbus       141\n",
      "Northbend      133\n",
      "Arlington      129\n",
      "Hillsdale      128\n",
      "Riverwood      121\n",
      "Northbrook     112\n",
      "Name: count, dtype: int64 \n",
      "\n",
      "\n",
      "incident_location\n",
      "9935 4th Drive         1\n",
      "8639 5th Hwy           1\n",
      "4835 Britain Ridge     1\n",
      "8548 Cherokee Ridge    1\n",
      "2352 MLK Drive         1\n",
      "                      ..\n",
      "6945 Texas Hwy         1\n",
      "5639 1st Ridge         1\n",
      "3834 Pine St           1\n",
      "1358 Maple St          1\n",
      "1416 Cherokee Ridge    1\n",
      "Name: count, Length: 909, dtype: int64 \n",
      "\n",
      "\n",
      "incident_hour_of_the_day\n",
      "17    51\n",
      "23    51\n",
      "0     49\n",
      "16    47\n",
      "13    42\n",
      "21    42\n",
      "14    42\n",
      "12    40\n",
      "18    40\n",
      "10    40\n",
      "3     40\n",
      "19    39\n",
      "4     38\n",
      "22    38\n",
      "15    38\n",
      "9     34\n",
      "6     33\n",
      "7     33\n",
      "20    32\n",
      "11    30\n",
      "2     30\n",
      "1     27\n",
      "8     27\n",
      "5     26\n",
      "Name: count, dtype: int64 \n",
      "\n",
      "\n",
      "number_of_vehicles_involved\n",
      "1    490\n",
      "3    358\n",
      "4     31\n",
      "2     30\n",
      "Name: count, dtype: int64 \n",
      "\n",
      "\n",
      "property_damage\n",
      "?      329\n",
      "NO     304\n",
      "YES    276\n",
      "Name: count, dtype: int64 \n",
      "\n",
      "\n",
      "bodily_injuries\n",
      "2    309\n",
      "0    307\n",
      "1    293\n",
      "Name: count, dtype: int64 \n",
      "\n",
      "\n",
      "witnesses\n",
      "2    234\n",
      "0    230\n",
      "1    228\n",
      "3    217\n",
      "Name: count, dtype: int64 \n",
      "\n",
      "\n",
      "police_report_available\n",
      "?      316\n",
      "NO     307\n",
      "YES    286\n",
      "Name: count, dtype: int64 \n",
      "\n",
      "\n",
      "total_claim_amount\n",
      "59400    5\n",
      "58500    4\n",
      "60600    4\n",
      "75400    4\n",
      "70290    4\n",
      "        ..\n",
      "44880    1\n",
      "82830    1\n",
      "84480    1\n",
      "53020    1\n",
      "5060     1\n",
      "Name: count, Length: 719, dtype: int64 \n",
      "\n",
      "\n",
      "injury_claim\n",
      "0        24\n",
      "5540      5\n",
      "6340      5\n",
      "13520     5\n",
      "5000      4\n",
      "         ..\n",
      "13660     1\n",
      "6370      1\n",
      "4650      1\n",
      "6660      1\n",
      "460       1\n",
      "Name: count, Length: 616, dtype: int64 \n",
      "\n",
      "\n",
      "property_claim\n",
      "0        18\n",
      "11080     5\n",
      "10000     5\n",
      "7000      4\n",
      "11100     4\n",
      "         ..\n",
      "3590      1\n",
      "6480      1\n",
      "4580      1\n",
      "4920      1\n",
      "920       1\n",
      "Name: count, Length: 603, dtype: int64 \n",
      "\n",
      "\n",
      "vehicle_claim\n",
      "52080    5\n",
      "33600    5\n",
      "44800    5\n",
      "41760    4\n",
      "46800    4\n",
      "        ..\n",
      "43360    1\n",
      "25130    1\n",
      "38940    1\n",
      "47430    1\n",
      "3680     1\n",
      "Name: count, Length: 691, dtype: int64 \n",
      "\n",
      "\n",
      "auto_make\n",
      "Suburu        74\n",
      "Saab          72\n",
      "Dodge         72\n",
      "Nissan        69\n",
      "Ford          67\n",
      "BMW           67\n",
      "Chevrolet     66\n",
      "Audi          63\n",
      "Accura        63\n",
      "Toyota        62\n",
      "Jeep          62\n",
      "Volkswagen    62\n",
      "Mercedes      60\n",
      "Honda         50\n",
      "Name: count, dtype: int64 \n",
      "\n",
      "\n",
      "auto_model\n",
      "RAM               40\n",
      "Wrangler          38\n",
      "Jetta             33\n",
      "A3                33\n",
      "MDX               33\n",
      "Neon              32\n",
      "A5                30\n",
      "Legacy            30\n",
      "Passat            29\n",
      "Pathfinder        27\n",
      "Forrestor         26\n",
      "F150              25\n",
      "95                25\n",
      "Camry             25\n",
      "Malibu            25\n",
      "92x               24\n",
      "E400              24\n",
      "Grand Cherokee    24\n",
      "Escape            23\n",
      "Maxima            23\n",
      "93                23\n",
      "Tahoe             22\n",
      "X5                20\n",
      "Highlander        20\n",
      "CRV               19\n",
      "Ultima            19\n",
      "Fusion            19\n",
      "Silverado         19\n",
      "TL                19\n",
      "Civic             18\n",
      "Impreza           18\n",
      "ML350             18\n",
      "C300              18\n",
      "3 Series          18\n",
      "Corolla           17\n",
      "X6                16\n",
      "Accord            13\n",
      "M5                13\n",
      "RSX               11\n",
      "Name: count, dtype: int64 \n",
      "\n",
      "\n",
      "auto_year\n",
      "1995    52\n",
      "2005    51\n",
      "2006    51\n",
      "1999    50\n",
      "2007    48\n",
      "2010    47\n",
      "2009    47\n",
      "2011    47\n",
      "2003    46\n",
      "2013    43\n",
      "2012    43\n",
      "2015    42\n",
      "2008    42\n",
      "1997    42\n",
      "2002    41\n",
      "2014    40\n",
      "2000    38\n",
      "2004    36\n",
      "1996    35\n",
      "1998    35\n",
      "2001    33\n",
      "Name: count, dtype: int64 \n",
      "\n",
      "\n",
      "fraud_reported\n",
      "N    668\n",
      "Y    241\n",
      "Name: count, dtype: int64 \n",
      "\n",
      "\n",
      "Series([], Name: count, dtype: int64) \n",
      "\n",
      "\n"
     ]
    }
   ],
   "source": [
    "# Write code to display all the columns with their unique values and counts and check for redundant values\n",
    "for column in data:\n",
    "    print(data[column].value_counts(), \"\\n\\n\")\n",
    "    print"
   ]
  },
  {
   "cell_type": "markdown",
   "metadata": {
    "id": "RRIhr3ZwDPWb"
   },
   "source": [
    "#### **2.2.2** Identify and drop any columns that are completely empty <font color=\"red\">[1 Mark]</font>"
   ]
  },
  {
   "cell_type": "code",
   "execution_count": 25,
   "metadata": {
    "id": "9vLZf8ExDPWb"
   },
   "outputs": [],
   "source": [
    "# Identify and drop any columns that are completely empty\n",
    "data = data.drop('_c39', axis=1)"
   ]
  },
  {
   "cell_type": "markdown",
   "metadata": {
    "id": "1Cx8douODPWd"
   },
   "source": [
    "#### **2.2.3** Identify and drop rows where features have illogical or invalid values, such as negative values for features that should only have positive values <font color=\"red\">[1 Mark]</font>"
   ]
  },
  {
   "cell_type": "code",
   "execution_count": 27,
   "metadata": {
    "id": "U5oARc23DPWd"
   },
   "outputs": [],
   "source": [
    "# Identify and drop rows where features have illogical or invalid values, such as negative values for features that should only have positive values\n",
    "data = data[data['umbrella_limit'] >= 0]"
   ]
  },
  {
   "cell_type": "code",
   "execution_count": 28,
   "metadata": {},
   "outputs": [],
   "source": [
    "data = data[data['property_damage'] != '?']"
   ]
  },
  {
   "cell_type": "code",
   "execution_count": 29,
   "metadata": {},
   "outputs": [],
   "source": [
    "data = data[data['collision_type'] != '?']"
   ]
  },
  {
   "cell_type": "code",
   "execution_count": 30,
   "metadata": {},
   "outputs": [],
   "source": [
    "data = data[data['police_report_available'] != '?']"
   ]
  },
  {
   "cell_type": "code",
   "execution_count": 31,
   "metadata": {},
   "outputs": [
    {
     "name": "stdout",
     "output_type": "stream",
     "text": [
      "<class 'pandas.core.frame.DataFrame'>\n",
      "Index: 340 entries, 0 to 992\n",
      "Data columns (total 39 columns):\n",
      " #   Column                       Non-Null Count  Dtype  \n",
      "---  ------                       --------------  -----  \n",
      " 0   months_as_customer           340 non-null    int64  \n",
      " 1   age                          340 non-null    int64  \n",
      " 2   policy_number                340 non-null    int64  \n",
      " 3   policy_bind_date             340 non-null    object \n",
      " 4   policy_state                 340 non-null    object \n",
      " 5   policy_csl                   340 non-null    object \n",
      " 6   policy_deductable            340 non-null    int64  \n",
      " 7   policy_annual_premium        340 non-null    float64\n",
      " 8   umbrella_limit               340 non-null    int64  \n",
      " 9   insured_zip                  340 non-null    int64  \n",
      " 10  insured_sex                  340 non-null    object \n",
      " 11  insured_education_level      340 non-null    object \n",
      " 12  insured_occupation           340 non-null    object \n",
      " 13  insured_hobbies              340 non-null    object \n",
      " 14  insured_relationship         340 non-null    object \n",
      " 15  capital-gains                340 non-null    int64  \n",
      " 16  capital-loss                 340 non-null    int64  \n",
      " 17  incident_date                340 non-null    object \n",
      " 18  incident_type                340 non-null    object \n",
      " 19  collision_type               340 non-null    object \n",
      " 20  incident_severity            340 non-null    object \n",
      " 21  authorities_contacted        340 non-null    object \n",
      " 22  incident_state               340 non-null    object \n",
      " 23  incident_city                340 non-null    object \n",
      " 24  incident_location            340 non-null    object \n",
      " 25  incident_hour_of_the_day     340 non-null    int64  \n",
      " 26  number_of_vehicles_involved  340 non-null    int64  \n",
      " 27  property_damage              340 non-null    object \n",
      " 28  bodily_injuries              340 non-null    int64  \n",
      " 29  witnesses                    340 non-null    int64  \n",
      " 30  police_report_available      340 non-null    object \n",
      " 31  total_claim_amount           340 non-null    int64  \n",
      " 32  injury_claim                 340 non-null    int64  \n",
      " 33  property_claim               340 non-null    int64  \n",
      " 34  vehicle_claim                340 non-null    int64  \n",
      " 35  auto_make                    340 non-null    object \n",
      " 36  auto_model                   340 non-null    object \n",
      " 37  auto_year                    340 non-null    int64  \n",
      " 38  fraud_reported               340 non-null    object \n",
      "dtypes: float64(1), int64(17), object(21)\n",
      "memory usage: 106.2+ KB\n"
     ]
    }
   ],
   "source": [
    "data.info()"
   ]
  },
  {
   "cell_type": "markdown",
   "metadata": {
    "id": "XTGMKeeNDPWd"
   },
   "source": [
    "#### **2.2.4** Identify and remove columns where a large proportion of the values are unique or near-unique, as these columns are likely to be identifiers or have very limited predictive power <font color=\"red\">[1 Mark]</font>"
   ]
  },
  {
   "cell_type": "code",
   "execution_count": 33,
   "metadata": {
    "id": "U4LXO65UDPWd"
   },
   "outputs": [],
   "source": [
    "# Identify and remove columns that are likely to be identifiers or have very limited predictive power\n"
   ]
  },
  {
   "cell_type": "code",
   "execution_count": 383,
   "metadata": {},
   "outputs": [
    {
     "data": {
      "image/png": "[encoded data removed]",
      "text/plain": [
       "<Figure size 1000x300 with 3 Axes>"
      ]
     },
     "metadata": {},
     "output_type": "display_data"
    }
   ],
   "source": [
    "fig, axes = plt.subplots(nrows=1, ncols=3, figsize=(10, 3))\n",
    "sns.histplot(data=data, x='umbrella_limit', ax=axes[0])\n",
    "sns.histplot(data=data, x='capital-gains', ax=axes[1])\n",
    "sns.histplot(data=data, x='capital-loss', ax=axes[2])\n",
    "plt.show()"
   ]
  },
  {
   "cell_type": "code",
   "execution_count": 389,
   "metadata": {},
   "outputs": [],
   "source": [
    "data = data.drop(['umbrella_limit', 'capital-gains', 'capital-loss'], axis=1)"
   ]
  },
  {
   "cell_type": "code",
   "execution_count": 393,
   "metadata": {
    "id": "KzHx2BzPDPWd"
   },
   "outputs": [
    {
     "data": {
      "text/plain": [
       "months_as_customer             1.271931e+04\n",
       "age                            8.666128e+01\n",
       "policy_deductable              3.749349e+05\n",
       "policy_annual_premium          6.002907e+04\n",
       "incident_hour_of_the_day       4.513804e+01\n",
       "number_of_vehicles_involved    1.109110e+00\n",
       "bodily_injuries                6.604546e-01\n",
       "witnesses                      1.217040e+00\n",
       "total_claim_amount             2.676934e+08\n",
       "injury_claim                   1.716992e+07\n",
       "property_claim                 1.602923e+07\n",
       "vehicle_claim                  1.315812e+08\n",
       "auto_year                      3.611595e+01\n",
       "dtype: float64"
      ]
     },
     "execution_count": 393,
     "metadata": {},
     "output_type": "execute_result"
    }
   ],
   "source": [
    "# Check the dataset\n",
    "data[['months_as_customer', 'age', 'policy_deductable', 'policy_annual_premium', 'incident_hour_of_the_day', 'number_of_vehicles_involved', \n",
    "     'bodily_injuries', 'witnesses', 'total_claim_amount', 'injury_claim', 'property_claim', 'vehicle_claim', 'auto_year']].var()"
   ]
  },
  {
   "cell_type": "markdown",
   "metadata": {
    "id": "nAvSdxKBDPWe"
   },
   "source": [
    "### **2.3 Fix Data Types** <font color = red>[3 marks]</font>\n",
    "Carefully examine the dataset and identify columns that contain date or time information but are not stored as the appropriate data type. Convert these columns to the correct datetime data type to enable proper analysis and manipulation of temporal information."
   ]
  },
  {
   "cell_type": "code",
   "execution_count": 396,
   "metadata": {
    "id": "WIycvsINDPWe"
   },
   "outputs": [
    {
     "name": "stdout",
     "output_type": "stream",
     "text": [
      "<class 'pandas.core.frame.DataFrame'>\n",
      "Index: 340 entries, 0 to 992\n",
      "Data columns (total 36 columns):\n",
      " #   Column                       Non-Null Count  Dtype         \n",
      "---  ------                       --------------  -----         \n",
      " 0   months_as_customer           340 non-null    int64         \n",
      " 1   age                          340 non-null    int64         \n",
      " 2   policy_number                340 non-null    int64         \n",
      " 3   policy_bind_date             340 non-null    datetime64[ns]\n",
      " 4   policy_state                 340 non-null    object        \n",
      " 5   policy_csl                   340 non-null    object        \n",
      " 6   policy_deductable            340 non-null    int64         \n",
      " 7   policy_annual_premium        340 non-null    float64       \n",
      " 8   insured_zip                  340 non-null    int64         \n",
      " 9   insured_sex                  340 non-null    object        \n",
      " 10  insured_education_level      340 non-null    object        \n",
      " 11  insured_occupation           340 non-null    object        \n",
      " 12  insured_hobbies              340 non-null    object        \n",
      " 13  insured_relationship         340 non-null    object        \n",
      " 14  incident_date                340 non-null    datetime64[ns]\n",
      " 15  incident_type                340 non-null    object        \n",
      " 16  collision_type               340 non-null    object        \n",
      " 17  incident_severity            340 non-null    object        \n",
      " 18  authorities_contacted        340 non-null    object        \n",
      " 19  incident_state               340 non-null    object        \n",
      " 20  incident_city                340 non-null    object        \n",
      " 21  incident_location            340 non-null    object        \n",
      " 22  incident_hour_of_the_day     340 non-null    int64         \n",
      " 23  number_of_vehicles_involved  340 non-null    int64         \n",
      " 24  property_damage              340 non-null    object        \n",
      " 25  bodily_injuries              340 non-null    int64         \n",
      " 26  witnesses                    340 non-null    int64         \n",
      " 27  police_report_available      340 non-null    object        \n",
      " 28  total_claim_amount           340 non-null    int64         \n",
      " 29  injury_claim                 340 non-null    int64         \n",
      " 30  property_claim               340 non-null    int64         \n",
      " 31  vehicle_claim                340 non-null    int64         \n",
      " 32  auto_make                    340 non-null    object        \n",
      " 33  auto_model                   340 non-null    object        \n",
      " 34  auto_year                    340 non-null    int64         \n",
      " 35  fraud_reported               340 non-null    object        \n",
      "dtypes: datetime64[ns](2), float64(1), int64(14), object(19)\n",
      "memory usage: 106.4+ KB\n"
     ]
    }
   ],
   "source": [
    "# Fix the data types of the columns with incorrect data types\n",
    "data.info()"
   ]
  },
  {
   "cell_type": "code",
   "execution_count": 398,
   "metadata": {},
   "outputs": [],
   "source": [
    "data['policy_bind_date'] = pd.to_datetime(data['policy_bind_date'], format='%Y-%m-%d')"
   ]
  },
  {
   "cell_type": "code",
   "execution_count": 400,
   "metadata": {},
   "outputs": [],
   "source": [
    "data['incident_date'] = pd.to_datetime(data['incident_date'], format='%Y-%m-%d')"
   ]
  },
  {
   "cell_type": "code",
   "execution_count": 402,
   "metadata": {
    "id": "kl0jWZNEDPWe"
   },
   "outputs": [
    {
     "name": "stdout",
     "output_type": "stream",
     "text": [
      "<class 'pandas.core.frame.DataFrame'>\n",
      "Index: 340 entries, 0 to 992\n",
      "Data columns (total 36 columns):\n",
      " #   Column                       Non-Null Count  Dtype         \n",
      "---  ------                       --------------  -----         \n",
      " 0   months_as_customer           340 non-null    int64         \n",
      " 1   age                          340 non-null    int64         \n",
      " 2   policy_number                340 non-null    int64         \n",
      " 3   policy_bind_date             340 non-null    datetime64[ns]\n",
      " 4   policy_state                 340 non-null    object        \n",
      " 5   policy_csl                   340 non-null    object        \n",
      " 6   policy_deductable            340 non-null    int64         \n",
      " 7   policy_annual_premium        340 non-null    float64       \n",
      " 8   insured_zip                  340 non-null    int64         \n",
      " 9   insured_sex                  340 non-null    object        \n",
      " 10  insured_education_level      340 non-null    object        \n",
      " 11  insured_occupation           340 non-null    object        \n",
      " 12  insured_hobbies              340 non-null    object        \n",
      " 13  insured_relationship         340 non-null    object        \n",
      " 14  incident_date                340 non-null    datetime64[ns]\n",
      " 15  incident_type                340 non-null    object        \n",
      " 16  collision_type               340 non-null    object        \n",
      " 17  incident_severity            340 non-null    object        \n",
      " 18  authorities_contacted        340 non-null    object        \n",
      " 19  incident_state               340 non-null    object        \n",
      " 20  incident_city                340 non-null    object        \n",
      " 21  incident_location            340 non-null    object        \n",
      " 22  incident_hour_of_the_day     340 non-null    int64         \n",
      " 23  number_of_vehicles_involved  340 non-null    int64         \n",
      " 24  property_damage              340 non-null    object        \n",
      " 25  bodily_injuries              340 non-null    int64         \n",
      " 26  witnesses                    340 non-null    int64         \n",
      " 27  police_report_available      340 non-null    object        \n",
      " 28  total_claim_amount           340 non-null    int64         \n",
      " 29  injury_claim                 340 non-null    int64         \n",
      " 30  property_claim               340 non-null    int64         \n",
      " 31  vehicle_claim                340 non-null    int64         \n",
      " 32  auto_make                    340 non-null    object        \n",
      " 33  auto_model                   340 non-null    object        \n",
      " 34  auto_year                    340 non-null    int64         \n",
      " 35  fraud_reported               340 non-null    object        \n",
      "dtypes: datetime64[ns](2), float64(1), int64(14), object(19)\n",
      "memory usage: 106.4+ KB\n"
     ]
    }
   ],
   "source": [
    "# Check the features of the data again\n",
    "data.info()"
   ]
  },
  {
   "cell_type": "markdown",
   "metadata": {
    "id": "nXS8rflQDPWe"
   },
   "source": [
    "## **3. Train-Validation Split** <font color = red>[5 marks]</font>"
   ]
  },
  {
   "cell_type": "markdown",
   "metadata": {
    "id": "9qOELXFYDPWe"
   },
   "source": [
    "### **3.1 Import required libraries**  "
   ]
  },
  {
   "cell_type": "code",
   "execution_count": 406,
   "metadata": {
    "id": "-vJKP7g0DPWe"
   },
   "outputs": [],
   "source": [
    "# Import train-test-split\n",
    "from sklearn.model_selection import train_test_split"
   ]
  },
  {
   "cell_type": "markdown",
   "metadata": {
    "id": "-MdKqcZ-DPWe"
   },
   "source": [
    "### **3.2 Define feature and target variables** <font color = red>[2 Marks]</font>"
   ]
  },
  {
   "cell_type": "code",
   "execution_count": 409,
   "metadata": {
    "id": "qacdKTt1DPWj"
   },
   "outputs": [],
   "source": [
    "# Put all the feature variables in X\n",
    "X = data.drop(['fraud_reported'], axis=1)\n",
    "# Put the target variable in y\n",
    "y = data['fraud_reported']"
   ]
  },
  {
   "cell_type": "code",
   "execution_count": 411,
   "metadata": {},
   "outputs": [
    {
     "data": {
      "text/plain": [
       "(340, 35)"
      ]
     },
     "execution_count": 411,
     "metadata": {},
     "output_type": "execute_result"
    }
   ],
   "source": [
    "X.shape"
   ]
  },
  {
   "cell_type": "code",
   "execution_count": 413,
   "metadata": {},
   "outputs": [
    {
     "data": {
      "text/plain": [
       "(340,)"
      ]
     },
     "execution_count": 413,
     "metadata": {},
     "output_type": "execute_result"
    }
   ],
   "source": [
    "y.shape"
   ]
  },
  {
   "cell_type": "markdown",
   "metadata": {
    "id": "t2JaDNlsDPWj"
   },
   "source": [
    "### **3.3 Split the data** <font color=\"red\">[3 Marks]</font>"
   ]
  },
  {
   "cell_type": "code",
   "execution_count": 416,
   "metadata": {
    "id": "7_mMlbt7DPWj"
   },
   "outputs": [],
   "source": [
    "# Split the dataset into 70% train and 30% validation and use stratification on the target variable\n",
    "X_train, X_test, y_train, y_test = train_test_split(X, y, train_size=0.7, test_size=0.3, random_state=100)\n",
    "# Reset index for all train and test sets\n",
    "X_train = X_train.reset_index(drop=True)\n",
    "X_test = X_test.reset_index(drop=True)\n",
    "y_train = y_train.reset_index(drop=True)\n",
    "y_test = y_test.reset_index(drop=True)"
   ]
  },
  {
   "cell_type": "code",
   "execution_count": 418,
   "metadata": {},
   "outputs": [
    {
     "data": {
      "text/html": [
       "<div>\n",
       "<style scoped>\n",
       "    .dataframe tbody tr th:only-of-type {\n",
       "        vertical-align: middle;\n",
       "    }\n",
       "\n",
       "    .dataframe tbody tr th {\n",
       "        vertical-align: top;\n",
       "    }\n",
       "\n",
       "    .dataframe thead th {\n",
       "        text-align: right;\n",
       "    }\n",
       "</style>\n",
       "<table border=\"1\" class=\"dataframe\">\n",
       "  <thead>\n",
       "    <tr style=\"text-align: right;\">\n",
       "      <th></th>\n",
       "      <th>months_as_customer</th>\n",
       "      <th>age</th>\n",
       "      <th>policy_number</th>\n",
       "      <th>policy_bind_date</th>\n",
       "      <th>policy_state</th>\n",
       "      <th>policy_csl</th>\n",
       "      <th>policy_deductable</th>\n",
       "      <th>policy_annual_premium</th>\n",
       "      <th>insured_zip</th>\n",
       "      <th>insured_sex</th>\n",
       "      <th>...</th>\n",
       "      <th>bodily_injuries</th>\n",
       "      <th>witnesses</th>\n",
       "      <th>police_report_available</th>\n",
       "      <th>total_claim_amount</th>\n",
       "      <th>injury_claim</th>\n",
       "      <th>property_claim</th>\n",
       "      <th>vehicle_claim</th>\n",
       "      <th>auto_make</th>\n",
       "      <th>auto_model</th>\n",
       "      <th>auto_year</th>\n",
       "    </tr>\n",
       "  </thead>\n",
       "  <tbody>\n",
       "    <tr>\n",
       "      <th>0</th>\n",
       "      <td>155</td>\n",
       "      <td>34</td>\n",
       "      <td>914815</td>\n",
       "      <td>1990-09-27</td>\n",
       "      <td>IN</td>\n",
       "      <td>100/300</td>\n",
       "      <td>500</td>\n",
       "      <td>1706.79</td>\n",
       "      <td>462479</td>\n",
       "      <td>MALE</td>\n",
       "      <td>...</td>\n",
       "      <td>1</td>\n",
       "      <td>1</td>\n",
       "      <td>YES</td>\n",
       "      <td>77040</td>\n",
       "      <td>8560</td>\n",
       "      <td>8560</td>\n",
       "      <td>59920</td>\n",
       "      <td>Honda</td>\n",
       "      <td>Civic</td>\n",
       "      <td>1998</td>\n",
       "    </tr>\n",
       "    <tr>\n",
       "      <th>1</th>\n",
       "      <td>249</td>\n",
       "      <td>43</td>\n",
       "      <td>577858</td>\n",
       "      <td>1990-09-16</td>\n",
       "      <td>OH</td>\n",
       "      <td>100/300</td>\n",
       "      <td>2000</td>\n",
       "      <td>1148.58</td>\n",
       "      <td>475524</td>\n",
       "      <td>FEMALE</td>\n",
       "      <td>...</td>\n",
       "      <td>2</td>\n",
       "      <td>1</td>\n",
       "      <td>YES</td>\n",
       "      <td>57100</td>\n",
       "      <td>5710</td>\n",
       "      <td>5710</td>\n",
       "      <td>45680</td>\n",
       "      <td>Honda</td>\n",
       "      <td>CRV</td>\n",
       "      <td>2014</td>\n",
       "    </tr>\n",
       "    <tr>\n",
       "      <th>2</th>\n",
       "      <td>195</td>\n",
       "      <td>38</td>\n",
       "      <td>238412</td>\n",
       "      <td>1993-05-18</td>\n",
       "      <td>IL</td>\n",
       "      <td>500/1000</td>\n",
       "      <td>2000</td>\n",
       "      <td>1294.93</td>\n",
       "      <td>477356</td>\n",
       "      <td>MALE</td>\n",
       "      <td>...</td>\n",
       "      <td>1</td>\n",
       "      <td>2</td>\n",
       "      <td>NO</td>\n",
       "      <td>64620</td>\n",
       "      <td>7180</td>\n",
       "      <td>0</td>\n",
       "      <td>57440</td>\n",
       "      <td>Dodge</td>\n",
       "      <td>Neon</td>\n",
       "      <td>2003</td>\n",
       "    </tr>\n",
       "    <tr>\n",
       "      <th>3</th>\n",
       "      <td>162</td>\n",
       "      <td>33</td>\n",
       "      <td>790225</td>\n",
       "      <td>1991-01-05</td>\n",
       "      <td>OH</td>\n",
       "      <td>250/500</td>\n",
       "      <td>500</td>\n",
       "      <td>964.92</td>\n",
       "      <td>601581</td>\n",
       "      <td>FEMALE</td>\n",
       "      <td>...</td>\n",
       "      <td>2</td>\n",
       "      <td>1</td>\n",
       "      <td>NO</td>\n",
       "      <td>35300</td>\n",
       "      <td>3530</td>\n",
       "      <td>3530</td>\n",
       "      <td>28240</td>\n",
       "      <td>Mercedes</td>\n",
       "      <td>E400</td>\n",
       "      <td>1996</td>\n",
       "    </tr>\n",
       "    <tr>\n",
       "      <th>4</th>\n",
       "      <td>303</td>\n",
       "      <td>50</td>\n",
       "      <td>411477</td>\n",
       "      <td>2001-12-25</td>\n",
       "      <td>OH</td>\n",
       "      <td>100/300</td>\n",
       "      <td>500</td>\n",
       "      <td>793.15</td>\n",
       "      <td>620869</td>\n",
       "      <td>MALE</td>\n",
       "      <td>...</td>\n",
       "      <td>0</td>\n",
       "      <td>3</td>\n",
       "      <td>NO</td>\n",
       "      <td>81960</td>\n",
       "      <td>13660</td>\n",
       "      <td>13660</td>\n",
       "      <td>54640</td>\n",
       "      <td>Dodge</td>\n",
       "      <td>Neon</td>\n",
       "      <td>2008</td>\n",
       "    </tr>\n",
       "  </tbody>\n",
       "</table>\n",
       "<p>5 rows × 35 columns</p>\n",
       "</div>"
      ],
      "text/plain": [
       "   months_as_customer  age  policy_number policy_bind_date policy_state  \\\n",
       "0                 155   34         914815       1990-09-27           IN   \n",
       "1                 249   43         577858       1990-09-16           OH   \n",
       "2                 195   38         238412       1993-05-18           IL   \n",
       "3                 162   33         790225       1991-01-05           OH   \n",
       "4                 303   50         411477       2001-12-25           OH   \n",
       "\n",
       "  policy_csl  policy_deductable  policy_annual_premium  insured_zip  \\\n",
       "0    100/300                500                1706.79       462479   \n",
       "1    100/300               2000                1148.58       475524   \n",
       "2   500/1000               2000                1294.93       477356   \n",
       "3    250/500                500                 964.92       601581   \n",
       "4    100/300                500                 793.15       620869   \n",
       "\n",
       "  insured_sex  ... bodily_injuries witnesses police_report_available  \\\n",
       "0        MALE  ...               1         1                     YES   \n",
       "1      FEMALE  ...               2         1                     YES   \n",
       "2        MALE  ...               1         2                      NO   \n",
       "3      FEMALE  ...               2         1                      NO   \n",
       "4        MALE  ...               0         3                      NO   \n",
       "\n",
       "  total_claim_amount injury_claim property_claim vehicle_claim auto_make  \\\n",
       "0              77040         8560           8560         59920     Honda   \n",
       "1              57100         5710           5710         45680     Honda   \n",
       "2              64620         7180              0         57440     Dodge   \n",
       "3              35300         3530           3530         28240  Mercedes   \n",
       "4              81960        13660          13660         54640     Dodge   \n",
       "\n",
       "  auto_model auto_year  \n",
       "0      Civic      1998  \n",
       "1        CRV      2014  \n",
       "2       Neon      2003  \n",
       "3       E400      1996  \n",
       "4       Neon      2008  \n",
       "\n",
       "[5 rows x 35 columns]"
      ]
     },
     "execution_count": 418,
     "metadata": {},
     "output_type": "execute_result"
    }
   ],
   "source": [
    "X_train.head()"
   ]
  },
  {
   "cell_type": "code",
   "execution_count": 420,
   "metadata": {},
   "outputs": [
    {
     "data": {
      "text/html": [
       "<div>\n",
       "<style scoped>\n",
       "    .dataframe tbody tr th:only-of-type {\n",
       "        vertical-align: middle;\n",
       "    }\n",
       "\n",
       "    .dataframe tbody tr th {\n",
       "        vertical-align: top;\n",
       "    }\n",
       "\n",
       "    .dataframe thead th {\n",
       "        text-align: right;\n",
       "    }\n",
       "</style>\n",
       "<table border=\"1\" class=\"dataframe\">\n",
       "  <thead>\n",
       "    <tr style=\"text-align: right;\">\n",
       "      <th></th>\n",
       "      <th>months_as_customer</th>\n",
       "      <th>age</th>\n",
       "      <th>policy_number</th>\n",
       "      <th>policy_bind_date</th>\n",
       "      <th>policy_state</th>\n",
       "      <th>policy_csl</th>\n",
       "      <th>policy_deductable</th>\n",
       "      <th>policy_annual_premium</th>\n",
       "      <th>insured_zip</th>\n",
       "      <th>insured_sex</th>\n",
       "      <th>...</th>\n",
       "      <th>bodily_injuries</th>\n",
       "      <th>witnesses</th>\n",
       "      <th>police_report_available</th>\n",
       "      <th>total_claim_amount</th>\n",
       "      <th>injury_claim</th>\n",
       "      <th>property_claim</th>\n",
       "      <th>vehicle_claim</th>\n",
       "      <th>auto_make</th>\n",
       "      <th>auto_model</th>\n",
       "      <th>auto_year</th>\n",
       "    </tr>\n",
       "  </thead>\n",
       "  <tbody>\n",
       "    <tr>\n",
       "      <th>0</th>\n",
       "      <td>293</td>\n",
       "      <td>45</td>\n",
       "      <td>235097</td>\n",
       "      <td>1992-04-28</td>\n",
       "      <td>IL</td>\n",
       "      <td>100/300</td>\n",
       "      <td>1000</td>\n",
       "      <td>1119.23</td>\n",
       "      <td>447560</td>\n",
       "      <td>FEMALE</td>\n",
       "      <td>...</td>\n",
       "      <td>1</td>\n",
       "      <td>1</td>\n",
       "      <td>NO</td>\n",
       "      <td>51210</td>\n",
       "      <td>11380</td>\n",
       "      <td>5690</td>\n",
       "      <td>34140</td>\n",
       "      <td>Jeep</td>\n",
       "      <td>Wrangler</td>\n",
       "      <td>2015</td>\n",
       "    </tr>\n",
       "    <tr>\n",
       "      <th>1</th>\n",
       "      <td>264</td>\n",
       "      <td>44</td>\n",
       "      <td>976645</td>\n",
       "      <td>2010-02-28</td>\n",
       "      <td>IL</td>\n",
       "      <td>100/300</td>\n",
       "      <td>500</td>\n",
       "      <td>1047.06</td>\n",
       "      <td>443402</td>\n",
       "      <td>MALE</td>\n",
       "      <td>...</td>\n",
       "      <td>0</td>\n",
       "      <td>2</td>\n",
       "      <td>NO</td>\n",
       "      <td>69850</td>\n",
       "      <td>12700</td>\n",
       "      <td>6350</td>\n",
       "      <td>50800</td>\n",
       "      <td>Ford</td>\n",
       "      <td>Fusion</td>\n",
       "      <td>1999</td>\n",
       "    </tr>\n",
       "    <tr>\n",
       "      <th>2</th>\n",
       "      <td>195</td>\n",
       "      <td>37</td>\n",
       "      <td>376879</td>\n",
       "      <td>1991-07-11</td>\n",
       "      <td>IL</td>\n",
       "      <td>100/300</td>\n",
       "      <td>1000</td>\n",
       "      <td>1406.52</td>\n",
       "      <td>619148</td>\n",
       "      <td>MALE</td>\n",
       "      <td>...</td>\n",
       "      <td>0</td>\n",
       "      <td>2</td>\n",
       "      <td>NO</td>\n",
       "      <td>44200</td>\n",
       "      <td>4420</td>\n",
       "      <td>4420</td>\n",
       "      <td>35360</td>\n",
       "      <td>Jeep</td>\n",
       "      <td>Wrangler</td>\n",
       "      <td>2002</td>\n",
       "    </tr>\n",
       "    <tr>\n",
       "      <th>3</th>\n",
       "      <td>206</td>\n",
       "      <td>36</td>\n",
       "      <td>253791</td>\n",
       "      <td>2009-07-23</td>\n",
       "      <td>IL</td>\n",
       "      <td>500/1000</td>\n",
       "      <td>500</td>\n",
       "      <td>1625.45</td>\n",
       "      <td>607452</td>\n",
       "      <td>FEMALE</td>\n",
       "      <td>...</td>\n",
       "      <td>2</td>\n",
       "      <td>1</td>\n",
       "      <td>NO</td>\n",
       "      <td>76560</td>\n",
       "      <td>12760</td>\n",
       "      <td>12760</td>\n",
       "      <td>51040</td>\n",
       "      <td>Ford</td>\n",
       "      <td>Fusion</td>\n",
       "      <td>2008</td>\n",
       "    </tr>\n",
       "    <tr>\n",
       "      <th>4</th>\n",
       "      <td>473</td>\n",
       "      <td>58</td>\n",
       "      <td>892874</td>\n",
       "      <td>1992-10-19</td>\n",
       "      <td>IN</td>\n",
       "      <td>100/300</td>\n",
       "      <td>2000</td>\n",
       "      <td>1131.40</td>\n",
       "      <td>458733</td>\n",
       "      <td>FEMALE</td>\n",
       "      <td>...</td>\n",
       "      <td>0</td>\n",
       "      <td>0</td>\n",
       "      <td>NO</td>\n",
       "      <td>63120</td>\n",
       "      <td>10520</td>\n",
       "      <td>10520</td>\n",
       "      <td>42080</td>\n",
       "      <td>Accura</td>\n",
       "      <td>MDX</td>\n",
       "      <td>1999</td>\n",
       "    </tr>\n",
       "  </tbody>\n",
       "</table>\n",
       "<p>5 rows × 35 columns</p>\n",
       "</div>"
      ],
      "text/plain": [
       "   months_as_customer  age  policy_number policy_bind_date policy_state  \\\n",
       "0                 293   45         235097       1992-04-28           IL   \n",
       "1                 264   44         976645       2010-02-28           IL   \n",
       "2                 195   37         376879       1991-07-11           IL   \n",
       "3                 206   36         253791       2009-07-23           IL   \n",
       "4                 473   58         892874       1992-10-19           IN   \n",
       "\n",
       "  policy_csl  policy_deductable  policy_annual_premium  insured_zip  \\\n",
       "0    100/300               1000                1119.23       447560   \n",
       "1    100/300                500                1047.06       443402   \n",
       "2    100/300               1000                1406.52       619148   \n",
       "3   500/1000                500                1625.45       607452   \n",
       "4    100/300               2000                1131.40       458733   \n",
       "\n",
       "  insured_sex  ... bodily_injuries witnesses police_report_available  \\\n",
       "0      FEMALE  ...               1         1                      NO   \n",
       "1        MALE  ...               0         2                      NO   \n",
       "2        MALE  ...               0         2                      NO   \n",
       "3      FEMALE  ...               2         1                      NO   \n",
       "4      FEMALE  ...               0         0                      NO   \n",
       "\n",
       "  total_claim_amount injury_claim property_claim vehicle_claim auto_make  \\\n",
       "0              51210        11380           5690         34140      Jeep   \n",
       "1              69850        12700           6350         50800      Ford   \n",
       "2              44200         4420           4420         35360      Jeep   \n",
       "3              76560        12760          12760         51040      Ford   \n",
       "4              63120        10520          10520         42080    Accura   \n",
       "\n",
       "  auto_model auto_year  \n",
       "0   Wrangler      2015  \n",
       "1     Fusion      1999  \n",
       "2   Wrangler      2002  \n",
       "3     Fusion      2008  \n",
       "4        MDX      1999  \n",
       "\n",
       "[5 rows x 35 columns]"
      ]
     },
     "execution_count": 420,
     "metadata": {},
     "output_type": "execute_result"
    }
   ],
   "source": [
    "X_test.head()"
   ]
  },
  {
   "cell_type": "code",
   "execution_count": 422,
   "metadata": {},
   "outputs": [
    {
     "data": {
      "text/plain": [
       "0    N\n",
       "1    N\n",
       "2    N\n",
       "3    Y\n",
       "4    N\n",
       "Name: fraud_reported, dtype: object"
      ]
     },
     "execution_count": 422,
     "metadata": {},
     "output_type": "execute_result"
    }
   ],
   "source": [
    "y_train.head()"
   ]
  },
  {
   "cell_type": "code",
   "execution_count": 424,
   "metadata": {},
   "outputs": [
    {
     "data": {
      "text/plain": [
       "0    N\n",
       "1    N\n",
       "2    Y\n",
       "3    Y\n",
       "4    Y\n",
       "Name: fraud_reported, dtype: object"
      ]
     },
     "execution_count": 424,
     "metadata": {},
     "output_type": "execute_result"
    }
   ],
   "source": [
    "y_test.head()"
   ]
  },
  {
   "cell_type": "markdown",
   "metadata": {
    "id": "4E_xpebIDPWk"
   },
   "source": [
    "## **4. EDA on training data** <font color = red>[20 marks]</font>"
   ]
  },
  {
   "cell_type": "markdown",
   "metadata": {
    "id": "xDNn7iBADPWk"
   },
   "source": [
    "### **4.1 Perform univariate analysis** <font color = red>[5 marks]</font>"
   ]
  },
  {
   "cell_type": "markdown",
   "metadata": {
    "id": "aVLeqhcADPWk"
   },
   "source": [
    "#### **4.1.1** Identify and select numerical columns from training data for univariate analysis <font color = \"red\">[1 Mark]</font>"
   ]
  },
  {
   "cell_type": "code",
   "execution_count": 484,
   "metadata": {
    "id": "bR9ulzRsDPWk"
   },
   "outputs": [],
   "source": [
    "# Select numerical columns\n",
    "numerical_cols = ['months_as_customer', 'age', 'policy_deductable', 'policy_annual_premium',\n",
    "                 'incident_hour_of_the_day', 'number_of_vehicles_involved', 'bodily_injuries',\n",
    "                  'witnesses', 'total_claim_amount', 'injury_claim', 'property_claim', \n",
    "                  'vehicle_claim', 'auto_year']"
   ]
  },
  {
   "cell_type": "code",
   "execution_count": 486,
   "metadata": {},
   "outputs": [],
   "source": [
    "X_train_numericals = X_train[numerical_cols]"
   ]
  },
  {
   "cell_type": "code",
   "execution_count": 488,
   "metadata": {},
   "outputs": [
    {
     "data": {
      "text/html": [
       "<div>\n",
       "<style scoped>\n",
       "    .dataframe tbody tr th:only-of-type {\n",
       "        vertical-align: middle;\n",
       "    }\n",
       "\n",
       "    .dataframe tbody tr th {\n",
       "        vertical-align: top;\n",
       "    }\n",
       "\n",
       "    .dataframe thead th {\n",
       "        text-align: right;\n",
       "    }\n",
       "</style>\n",
       "<table border=\"1\" class=\"dataframe\">\n",
       "  <thead>\n",
       "    <tr style=\"text-align: right;\">\n",
       "      <th></th>\n",
       "      <th>months_as_customer</th>\n",
       "      <th>age</th>\n",
       "      <th>policy_deductable</th>\n",
       "      <th>policy_annual_premium</th>\n",
       "      <th>incident_hour_of_the_day</th>\n",
       "      <th>number_of_vehicles_involved</th>\n",
       "      <th>bodily_injuries</th>\n",
       "      <th>witnesses</th>\n",
       "      <th>total_claim_amount</th>\n",
       "      <th>injury_claim</th>\n",
       "      <th>property_claim</th>\n",
       "      <th>vehicle_claim</th>\n",
       "      <th>auto_year</th>\n",
       "    </tr>\n",
       "  </thead>\n",
       "  <tbody>\n",
       "    <tr>\n",
       "      <th>0</th>\n",
       "      <td>155</td>\n",
       "      <td>34</td>\n",
       "      <td>500</td>\n",
       "      <td>1706.79</td>\n",
       "      <td>1</td>\n",
       "      <td>1</td>\n",
       "      <td>1</td>\n",
       "      <td>1</td>\n",
       "      <td>77040</td>\n",
       "      <td>8560</td>\n",
       "      <td>8560</td>\n",
       "      <td>59920</td>\n",
       "      <td>1998</td>\n",
       "    </tr>\n",
       "    <tr>\n",
       "      <th>1</th>\n",
       "      <td>249</td>\n",
       "      <td>43</td>\n",
       "      <td>2000</td>\n",
       "      <td>1148.58</td>\n",
       "      <td>4</td>\n",
       "      <td>3</td>\n",
       "      <td>2</td>\n",
       "      <td>1</td>\n",
       "      <td>57100</td>\n",
       "      <td>5710</td>\n",
       "      <td>5710</td>\n",
       "      <td>45680</td>\n",
       "      <td>2014</td>\n",
       "    </tr>\n",
       "    <tr>\n",
       "      <th>2</th>\n",
       "      <td>195</td>\n",
       "      <td>38</td>\n",
       "      <td>2000</td>\n",
       "      <td>1294.93</td>\n",
       "      <td>12</td>\n",
       "      <td>3</td>\n",
       "      <td>1</td>\n",
       "      <td>2</td>\n",
       "      <td>64620</td>\n",
       "      <td>7180</td>\n",
       "      <td>0</td>\n",
       "      <td>57440</td>\n",
       "      <td>2003</td>\n",
       "    </tr>\n",
       "    <tr>\n",
       "      <th>3</th>\n",
       "      <td>162</td>\n",
       "      <td>33</td>\n",
       "      <td>500</td>\n",
       "      <td>964.92</td>\n",
       "      <td>17</td>\n",
       "      <td>4</td>\n",
       "      <td>2</td>\n",
       "      <td>1</td>\n",
       "      <td>35300</td>\n",
       "      <td>3530</td>\n",
       "      <td>3530</td>\n",
       "      <td>28240</td>\n",
       "      <td>1996</td>\n",
       "    </tr>\n",
       "    <tr>\n",
       "      <th>4</th>\n",
       "      <td>303</td>\n",
       "      <td>50</td>\n",
       "      <td>500</td>\n",
       "      <td>793.15</td>\n",
       "      <td>17</td>\n",
       "      <td>3</td>\n",
       "      <td>0</td>\n",
       "      <td>3</td>\n",
       "      <td>81960</td>\n",
       "      <td>13660</td>\n",
       "      <td>13660</td>\n",
       "      <td>54640</td>\n",
       "      <td>2008</td>\n",
       "    </tr>\n",
       "  </tbody>\n",
       "</table>\n",
       "</div>"
      ],
      "text/plain": [
       "   months_as_customer  age  policy_deductable  policy_annual_premium  \\\n",
       "0                 155   34                500                1706.79   \n",
       "1                 249   43               2000                1148.58   \n",
       "2                 195   38               2000                1294.93   \n",
       "3                 162   33                500                 964.92   \n",
       "4                 303   50                500                 793.15   \n",
       "\n",
       "   incident_hour_of_the_day  number_of_vehicles_involved  bodily_injuries  \\\n",
       "0                         1                            1                1   \n",
       "1                         4                            3                2   \n",
       "2                        12                            3                1   \n",
       "3                        17                            4                2   \n",
       "4                        17                            3                0   \n",
       "\n",
       "   witnesses  total_claim_amount  injury_claim  property_claim  vehicle_claim  \\\n",
       "0          1               77040          8560            8560          59920   \n",
       "1          1               57100          5710            5710          45680   \n",
       "2          2               64620          7180               0          57440   \n",
       "3          1               35300          3530            3530          28240   \n",
       "4          3               81960         13660           13660          54640   \n",
       "\n",
       "   auto_year  \n",
       "0       1998  \n",
       "1       2014  \n",
       "2       2003  \n",
       "3       1996  \n",
       "4       2008  "
      ]
     },
     "execution_count": 488,
     "metadata": {},
     "output_type": "execute_result"
    }
   ],
   "source": [
    "X_train_numericals.head()"
   ]
  },
  {
   "cell_type": "code",
   "execution_count": 490,
   "metadata": {},
   "outputs": [
    {
     "name": "stdout",
     "output_type": "stream",
     "text": [
      "<class 'pandas.core.frame.DataFrame'>\n",
      "RangeIndex: 237 entries, 0 to 236\n",
      "Data columns (total 13 columns):\n",
      " #   Column                       Non-Null Count  Dtype  \n",
      "---  ------                       --------------  -----  \n",
      " 0   months_as_customer           237 non-null    int64  \n",
      " 1   age                          237 non-null    int64  \n",
      " 2   policy_deductable            237 non-null    int64  \n",
      " 3   policy_annual_premium        237 non-null    float64\n",
      " 4   incident_hour_of_the_day     237 non-null    int64  \n",
      " 5   number_of_vehicles_involved  237 non-null    int64  \n",
      " 6   bodily_injuries              237 non-null    int64  \n",
      " 7   witnesses                    237 non-null    int64  \n",
      " 8   total_claim_amount           237 non-null    int64  \n",
      " 9   injury_claim                 237 non-null    int64  \n",
      " 10  property_claim               237 non-null    int64  \n",
      " 11  vehicle_claim                237 non-null    int64  \n",
      " 12  auto_year                    237 non-null    int64  \n",
      "dtypes: float64(1), int64(12)\n",
      "memory usage: 24.2 KB\n"
     ]
    }
   ],
   "source": [
    "X_train_numericals.info()"
   ]
  },
  {
   "cell_type": "markdown",
   "metadata": {
    "id": "wP4icMhPDPWk"
   },
   "source": [
    "#### **4.1.2** Visualise the distribution of selected numerical features using appropriate plots to understand their characteristics <font color = \"red\">[4 Marks]</font>"
   ]
  },
  {
   "cell_type": "code",
   "execution_count": 492,
   "metadata": {
    "id": "ny7woMrmDPWk"
   },
   "outputs": [
    {
     "data": {
      "image/png": "[encoded data removed]",
      "text/plain": [
       "<Figure size 1000x1000 with 12 Axes>"
      ]
     },
     "metadata": {},
     "output_type": "display_data"
    }
   ],
   "source": [
    "# Plot all the numerical columns to understand their distribution\n",
    "fig, axes = plt.subplots(nrows=4, ncols=3, figsize=(10, 10))\n",
    "k = 0\n",
    "for i in range(4):\n",
    "    for j in range(3):\n",
    "        sns.histplot(data=X_train_numericals, x=numerical_cols[k], ax=axes[i, j])\n",
    "        k = k+1\n",
    "plt.show()"
   ]
  },
  {
   "cell_type": "code",
   "execution_count": 494,
   "metadata": {},
   "outputs": [
    {
     "data": {
      "image/png": "[encoded data removed]",
      "text/plain": [
       "<Figure size 640x480 with 1 Axes>"
      ]
     },
     "metadata": {},
     "output_type": "display_data"
    }
   ],
   "source": [
    "sns.histplot(data=X_train_numericals, x='auto_year')\n",
    "plt.show()"
   ]
  },
  {
   "cell_type": "code",
   "execution_count": 496,
   "metadata": {},
   "outputs": [
    {
     "data": {
      "text/html": [
       "<div>\n",
       "<style scoped>\n",
       "    .dataframe tbody tr th:only-of-type {\n",
       "        vertical-align: middle;\n",
       "    }\n",
       "\n",
       "    .dataframe tbody tr th {\n",
       "        vertical-align: top;\n",
       "    }\n",
       "\n",
       "    .dataframe thead th {\n",
       "        text-align: right;\n",
       "    }\n",
       "</style>\n",
       "<table border=\"1\" class=\"dataframe\">\n",
       "  <thead>\n",
       "    <tr style=\"text-align: right;\">\n",
       "      <th></th>\n",
       "      <th>months_as_customer</th>\n",
       "      <th>age</th>\n",
       "      <th>policy_deductable</th>\n",
       "      <th>policy_annual_premium</th>\n",
       "      <th>incident_hour_of_the_day</th>\n",
       "      <th>number_of_vehicles_involved</th>\n",
       "      <th>bodily_injuries</th>\n",
       "      <th>witnesses</th>\n",
       "      <th>total_claim_amount</th>\n",
       "      <th>injury_claim</th>\n",
       "      <th>property_claim</th>\n",
       "      <th>vehicle_claim</th>\n",
       "      <th>auto_year</th>\n",
       "    </tr>\n",
       "  </thead>\n",
       "  <tbody>\n",
       "    <tr>\n",
       "      <th>count</th>\n",
       "      <td>237.000000</td>\n",
       "      <td>237.000000</td>\n",
       "      <td>237.000000</td>\n",
       "      <td>237.000000</td>\n",
       "      <td>237.000000</td>\n",
       "      <td>237.000000</td>\n",
       "      <td>237.000000</td>\n",
       "      <td>237.000000</td>\n",
       "      <td>237.000000</td>\n",
       "      <td>237.000000</td>\n",
       "      <td>237.000000</td>\n",
       "      <td>237.000000</td>\n",
       "      <td>237.000000</td>\n",
       "    </tr>\n",
       "    <tr>\n",
       "      <th>mean</th>\n",
       "      <td>215.097046</td>\n",
       "      <td>39.873418</td>\n",
       "      <td>1179.324895</td>\n",
       "      <td>1283.531646</td>\n",
       "      <td>13.658228</td>\n",
       "      <td>1.991561</td>\n",
       "      <td>1.008439</td>\n",
       "      <td>1.434599</td>\n",
       "      <td>63982.025316</td>\n",
       "      <td>8927.594937</td>\n",
       "      <td>8930.886076</td>\n",
       "      <td>46123.544304</td>\n",
       "      <td>2004.426160</td>\n",
       "    </tr>\n",
       "    <tr>\n",
       "      <th>std</th>\n",
       "      <td>112.846731</td>\n",
       "      <td>9.275492</td>\n",
       "      <td>605.863622</td>\n",
       "      <td>242.027754</td>\n",
       "      <td>6.602939</td>\n",
       "      <td>1.065609</td>\n",
       "      <td>0.812986</td>\n",
       "      <td>1.089698</td>\n",
       "      <td>16678.288819</td>\n",
       "      <td>4263.269578</td>\n",
       "      <td>4071.825432</td>\n",
       "      <td>11686.156525</td>\n",
       "      <td>5.986552</td>\n",
       "    </tr>\n",
       "    <tr>\n",
       "      <th>min</th>\n",
       "      <td>1.000000</td>\n",
       "      <td>20.000000</td>\n",
       "      <td>500.000000</td>\n",
       "      <td>714.030000</td>\n",
       "      <td>0.000000</td>\n",
       "      <td>1.000000</td>\n",
       "      <td>0.000000</td>\n",
       "      <td>0.000000</td>\n",
       "      <td>28100.000000</td>\n",
       "      <td>0.000000</td>\n",
       "      <td>0.000000</td>\n",
       "      <td>19670.000000</td>\n",
       "      <td>1995.000000</td>\n",
       "    </tr>\n",
       "    <tr>\n",
       "      <th>25%</th>\n",
       "      <td>126.000000</td>\n",
       "      <td>33.000000</td>\n",
       "      <td>500.000000</td>\n",
       "      <td>1107.590000</td>\n",
       "      <td>9.000000</td>\n",
       "      <td>1.000000</td>\n",
       "      <td>0.000000</td>\n",
       "      <td>0.000000</td>\n",
       "      <td>53680.000000</td>\n",
       "      <td>5810.000000</td>\n",
       "      <td>6070.000000</td>\n",
       "      <td>38010.000000</td>\n",
       "      <td>1999.000000</td>\n",
       "    </tr>\n",
       "    <tr>\n",
       "      <th>50%</th>\n",
       "      <td>213.000000</td>\n",
       "      <td>39.000000</td>\n",
       "      <td>1000.000000</td>\n",
       "      <td>1281.250000</td>\n",
       "      <td>15.000000</td>\n",
       "      <td>1.000000</td>\n",
       "      <td>1.000000</td>\n",
       "      <td>1.000000</td>\n",
       "      <td>62370.000000</td>\n",
       "      <td>7680.000000</td>\n",
       "      <td>7810.000000</td>\n",
       "      <td>44800.000000</td>\n",
       "      <td>2005.000000</td>\n",
       "    </tr>\n",
       "    <tr>\n",
       "      <th>75%</th>\n",
       "      <td>289.000000</td>\n",
       "      <td>45.000000</td>\n",
       "      <td>2000.000000</td>\n",
       "      <td>1446.980000</td>\n",
       "      <td>19.000000</td>\n",
       "      <td>3.000000</td>\n",
       "      <td>2.000000</td>\n",
       "      <td>2.000000</td>\n",
       "      <td>74280.000000</td>\n",
       "      <td>11960.000000</td>\n",
       "      <td>11580.000000</td>\n",
       "      <td>54670.000000</td>\n",
       "      <td>2009.000000</td>\n",
       "    </tr>\n",
       "    <tr>\n",
       "      <th>max</th>\n",
       "      <td>479.000000</td>\n",
       "      <td>64.000000</td>\n",
       "      <td>2000.000000</td>\n",
       "      <td>1969.630000</td>\n",
       "      <td>23.000000</td>\n",
       "      <td>4.000000</td>\n",
       "      <td>2.000000</td>\n",
       "      <td>3.000000</td>\n",
       "      <td>114920.000000</td>\n",
       "      <td>21330.000000</td>\n",
       "      <td>21580.000000</td>\n",
       "      <td>79560.000000</td>\n",
       "      <td>2015.000000</td>\n",
       "    </tr>\n",
       "  </tbody>\n",
       "</table>\n",
       "</div>"
      ],
      "text/plain": [
       "       months_as_customer         age  policy_deductable  \\\n",
       "count          237.000000  237.000000         237.000000   \n",
       "mean           215.097046   39.873418        1179.324895   \n",
       "std            112.846731    9.275492         605.863622   \n",
       "min              1.000000   20.000000         500.000000   \n",
       "25%            126.000000   33.000000         500.000000   \n",
       "50%            213.000000   39.000000        1000.000000   \n",
       "75%            289.000000   45.000000        2000.000000   \n",
       "max            479.000000   64.000000        2000.000000   \n",
       "\n",
       "       policy_annual_premium  incident_hour_of_the_day  \\\n",
       "count             237.000000                237.000000   \n",
       "mean             1283.531646                 13.658228   \n",
       "std               242.027754                  6.602939   \n",
       "min               714.030000                  0.000000   \n",
       "25%              1107.590000                  9.000000   \n",
       "50%              1281.250000                 15.000000   \n",
       "75%              1446.980000                 19.000000   \n",
       "max              1969.630000                 23.000000   \n",
       "\n",
       "       number_of_vehicles_involved  bodily_injuries   witnesses  \\\n",
       "count                   237.000000       237.000000  237.000000   \n",
       "mean                      1.991561         1.008439    1.434599   \n",
       "std                       1.065609         0.812986    1.089698   \n",
       "min                       1.000000         0.000000    0.000000   \n",
       "25%                       1.000000         0.000000    0.000000   \n",
       "50%                       1.000000         1.000000    1.000000   \n",
       "75%                       3.000000         2.000000    2.000000   \n",
       "max                       4.000000         2.000000    3.000000   \n",
       "\n",
       "       total_claim_amount  injury_claim  property_claim  vehicle_claim  \\\n",
       "count          237.000000    237.000000      237.000000     237.000000   \n",
       "mean         63982.025316   8927.594937     8930.886076   46123.544304   \n",
       "std          16678.288819   4263.269578     4071.825432   11686.156525   \n",
       "min          28100.000000      0.000000        0.000000   19670.000000   \n",
       "25%          53680.000000   5810.000000     6070.000000   38010.000000   \n",
       "50%          62370.000000   7680.000000     7810.000000   44800.000000   \n",
       "75%          74280.000000  11960.000000    11580.000000   54670.000000   \n",
       "max         114920.000000  21330.000000    21580.000000   79560.000000   \n",
       "\n",
       "         auto_year  \n",
       "count   237.000000  \n",
       "mean   2004.426160  \n",
       "std       5.986552  \n",
       "min    1995.000000  \n",
       "25%    1999.000000  \n",
       "50%    2005.000000  \n",
       "75%    2009.000000  \n",
       "max    2015.000000  "
      ]
     },
     "execution_count": 496,
     "metadata": {},
     "output_type": "execute_result"
    }
   ],
   "source": [
    "X_train_numericals.describe()"
   ]
  },
  {
   "cell_type": "code",
   "execution_count": 508,
   "metadata": {},
   "outputs": [
    {
     "data": {
      "image/png": "[encoded data removed]",
      "text/plain": [
       "<Figure size 1500x1500 with 12 Axes>"
      ]
     },
     "metadata": {},
     "output_type": "display_data"
    }
   ],
   "source": [
    "fig, axes = plt.subplots(nrows=4, ncols=3, figsize=(15, 15))\n",
    "k = 0\n",
    "for i in range(4):\n",
    "    for j in range(3):\n",
    "        sns.boxplot(data=X_train_numericals, y=numerical_cols[k], ax=axes[i, j])\n",
    "        k = k+1\n",
    "plt.show()"
   ]
  },
  {
   "cell_type": "code",
   "execution_count": 514,
   "metadata": {},
   "outputs": [
    {
     "data": {
      "image/png": "[encoded data removed]",
      "text/plain": [
       "<Figure size 640x480 with 1 Axes>"
      ]
     },
     "metadata": {},
     "output_type": "display_data"
    }
   ],
   "source": [
    "sns.boxplot(data=X_train_numericals, y='auto_year')\n",
    "plt.show()"
   ]
  },
  {
   "cell_type": "markdown",
   "metadata": {
    "id": "o4UAw5pDDPWl"
   },
   "source": [
    "### **4.2 Perform correlation analysis** <font color=\"red\">[3 Marks]</font>"
   ]
  },
  {
   "cell_type": "markdown",
   "metadata": {
    "id": "ySJiTDdxDPWl"
   },
   "source": [
    " Investigate the relationships between numerical features to identify potential multicollinearity or dependencies. Visualise the correlation structure using an appropriate method to gain insights into feature relationships."
   ]
  },
  {
   "cell_type": "code",
   "execution_count": 65,
   "metadata": {
    "id": "_xadGQK7DPWl"
   },
   "outputs": [],
   "source": [
    "# Create correlation matrix for numerical columns\n",
    "\n",
    "# Plot Heatmap of the correlation matrix\n"
   ]
  },
  {
   "cell_type": "markdown",
   "metadata": {
    "id": "ZHQ3du-9DPWl"
   },
   "source": [
    "### **4.3 Check class balance** <font color=\"red\">[2 Marks]</font>"
   ]
  },
  {
   "cell_type": "markdown",
   "metadata": {
    "id": "eTkJHl0xDPWm"
   },
   "source": [
    "Examine the distribution of the target variable to identify potential class imbalances using visualisation for better understanding."
   ]
  },
  {
   "cell_type": "code",
   "execution_count": 68,
   "metadata": {
    "id": "V1QrXZdhDPWm"
   },
   "outputs": [],
   "source": [
    "# Plot a bar chart to check class balance\n"
   ]
  },
  {
   "cell_type": "markdown",
   "metadata": {
    "id": "xFhVKzRHDPWn"
   },
   "source": [
    "### **4.4 Perform bivariate analysis** <font color=\"red\">[10 Marks]</font>"
   ]
  },
  {
   "cell_type": "markdown",
   "metadata": {
    "id": "h0WjamQXDPWn"
   },
   "source": [
    "#### **4.4.1** Target likelihood analysis for categorical variables. <font color=\"red\">[5 Marks]</font>\n",
    "Investigate the relationships between categorical features and the target variable by analysing the target event likelihood (for the `'Y'` event) for each level of every relevant categorical feature. Through this analysis, identify categorical features that do not contribute much in explaining the variation in the target variable."
   ]
  },
  {
   "cell_type": "code",
   "execution_count": 71,
   "metadata": {
    "id": "K1OQJrO5guyw"
   },
   "outputs": [],
   "source": [
    "# Write a function to calculate and analyse the target variable likelihood for categorical features\n"
   ]
  },
  {
   "cell_type": "markdown",
   "metadata": {
    "id": "z6oeg9naDPWo"
   },
   "source": [
    "#### **4.4.2** Explore the relationships between numerical features and the target variable to understand their impact on the target outcome using appropriate visualisation techniques to identify trends and potential interactions. <font color=\"red\">[5 Marks]</font>"
   ]
  },
  {
   "cell_type": "code",
   "execution_count": 73,
   "metadata": {
    "id": "bVXoNozGDPWo"
   },
   "outputs": [],
   "source": [
    "# Visualise the relationship between numerical features and the target variable to understand their impact on the target outcome\n"
   ]
  },
  {
   "cell_type": "markdown",
   "metadata": {
    "id": "OVV4m9OiDPWo"
   },
   "source": [
    "## **5. EDA on validation data** <font color = red>[OPTIONAL]</font>"
   ]
  },
  {
   "cell_type": "markdown",
   "metadata": {
    "id": "hvF11y45DPWo"
   },
   "source": [
    "### **5.1 Perform univariate analysis**"
   ]
  },
  {
   "cell_type": "markdown",
   "metadata": {
    "id": "krLtfiOBDPWo"
   },
   "source": [
    "#### **5.1.1** Identify and select numerical columns from training data for univariate analysis."
   ]
  },
  {
   "cell_type": "code",
   "execution_count": 77,
   "metadata": {
    "id": "RURn5Dp1DPWo"
   },
   "outputs": [],
   "source": [
    "# Select numerical columns\n"
   ]
  },
  {
   "cell_type": "markdown",
   "metadata": {
    "id": "a41PWZrNDPWp"
   },
   "source": [
    "#### **5.1.2** Visualise the distribution of selected numerical features using appropriate plots to understand their characteristics."
   ]
  },
  {
   "cell_type": "code",
   "execution_count": 79,
   "metadata": {
    "id": "DUoPrry8DPWp"
   },
   "outputs": [],
   "source": [
    "# Plot all the numerical columns to understand their distribution\n"
   ]
  },
  {
   "cell_type": "markdown",
   "metadata": {
    "id": "OhvTVXiwDPWp"
   },
   "source": [
    "### **5.2 Perform correlation analysis**"
   ]
  },
  {
   "cell_type": "markdown",
   "metadata": {
    "id": "F5tDAjsNDPWp"
   },
   "source": [
    " Investigate the relationships between numerical features to identify potential multicollinearity or dependencies. Visualise the correlation structure using an appropriate method to gain insights into feature relationships."
   ]
  },
  {
   "cell_type": "code",
   "execution_count": 82,
   "metadata": {
    "id": "C-b6CSy1DPWp"
   },
   "outputs": [],
   "source": [
    "# Create correlation matrix for numerical columns\n",
    "\n",
    "# Plot Heatmap of the correlation matrix\n"
   ]
  },
  {
   "cell_type": "markdown",
   "metadata": {
    "id": "N2ww_JH7DPWp"
   },
   "source": [
    "### **5.3 Check class balance**"
   ]
  },
  {
   "cell_type": "markdown",
   "metadata": {
    "id": "ddcn-VSADPWp"
   },
   "source": [
    "Examine the distribution of the target variable to identify potential class imbalances. Visualise the distribution for better understanding."
   ]
  },
  {
   "cell_type": "code",
   "execution_count": 85,
   "metadata": {
    "id": "5Yvfw9F2DPWq"
   },
   "outputs": [],
   "source": [
    "# Plot a bar chart to check class balance\n"
   ]
  },
  {
   "cell_type": "markdown",
   "metadata": {
    "id": "_pDlcXHxDPWq"
   },
   "source": [
    "### **5.4 Perform bivariate analysis**"
   ]
  },
  {
   "cell_type": "markdown",
   "metadata": {
    "id": "F0UT1kLHDPWq"
   },
   "source": [
    "#### **5.4.1** Target likelihood analysis for categorical variables.\n",
    "Investigate the relationships between categorical features and the target variable by analysing the target event likelihood (for the `'Y'` event) for each level of every relevant categorical feature. Through this analysis, identify categorical features that do not contribute much in explaining the variation in the target variable."
   ]
  },
  {
   "cell_type": "code",
   "execution_count": 88,
   "metadata": {
    "id": "XMe7hHDcDPWr"
   },
   "outputs": [],
   "source": [
    "# Write a function to calculate and analyse the target variable likelihood for categorical features\n"
   ]
  },
  {
   "cell_type": "markdown",
   "metadata": {
    "id": "gCNILHjCDPWr"
   },
   "source": [
    "#### **5.4.2** Explore the relationships between numerical features and the target variable to understand their impact on the target outcome. Utilise appropriate visualisation techniques to identify trends and potential interactions."
   ]
  },
  {
   "cell_type": "code",
   "execution_count": 90,
   "metadata": {
    "id": "NhQl8TJ9DPWr"
   },
   "outputs": [],
   "source": [
    "# Visualise the relationship between numerical features and the target variable to understand their impact on the target outcome\n"
   ]
  },
  {
   "cell_type": "markdown",
   "metadata": {
    "id": "TVb5a63HDPWr"
   },
   "source": [
    "## **6. Feature Engineering** <font color = red>[25 marks]</font>"
   ]
  },
  {
   "cell_type": "markdown",
   "metadata": {
    "id": "F1-lpq1iDPWs"
   },
   "source": [
    "### **6.1 Perform resampling** <font color=\"red\">[3 Marks]</font>"
   ]
  },
  {
   "cell_type": "markdown",
   "metadata": {
    "id": "vV6fEzAADPWs"
   },
   "source": [
    "Handle class imbalance in the training data by applying resampling technique.\n",
    "\n",
    "Use the **RandomOverSampler** technique to balance the data and handle class imbalance. This method increases the number of samples in the minority class by randomly duplicating them, creating synthetic data points with similar characteristics. This helps prevent the model from being biased toward the majority class and improves its ability to predict the minority class more accurately.\n",
    "\n",
    "**Note:** You can try other resampling techniques to handle class imbalance"
   ]
  },
  {
   "cell_type": "code",
   "execution_count": 94,
   "metadata": {
    "id": "ijz0X5bGDPWs"
   },
   "outputs": [],
   "source": [
    "# Import RandomOverSampler from imblearn library\n",
    "from imblearn.over_sampling import RandomOverSampler\n",
    "\n",
    "# Perform resampling on training data\n"
   ]
  },
  {
   "cell_type": "markdown",
   "metadata": {
    "id": "IQ7nY4SLDPWs"
   },
   "source": [
    "### **6.2 Feature Creation** <font color=\"red\">[4 marks]</font>"
   ]
  },
  {
   "cell_type": "markdown",
   "metadata": {
    "id": "PdDUn_sVDPWs"
   },
   "source": [
    "Create new features from existing ones to enhance the model's ability to capture patterns in the data. This may involve deriving features from date/time columns, combining features, or creating interaction terms."
   ]
  },
  {
   "cell_type": "code",
   "execution_count": 97,
   "metadata": {
    "id": "beiDdjl7DPWs"
   },
   "outputs": [],
   "source": [
    "# Create new features based on your understanding for both training and validation data\n"
   ]
  },
  {
   "cell_type": "markdown",
   "metadata": {
    "id": "NbQ6FhLUDPWt"
   },
   "source": [
    "### **6.3 Handle redundant columns** <font color=\"red\">[3 marks]</font>"
   ]
  },
  {
   "cell_type": "markdown",
   "metadata": {
    "id": "zs_uzd9VDPWt"
   },
   "source": [
    "Analyse the data to identify features that may be redundant or contribute minimal information toward predicting the target variable and drop them.\n",
    "\n",
    "- You can consider features that exhibit high correlation with other variables, which you may have observed during the EDA phase.\n",
    "- Features that don't strongly influence the prediction, which you may have observed during the EDA phase.\n",
    "- Categorical columns with low value counts for some levels can be remapped to reduce number of unique levels, and features with very high counts for just one level may be removed, as they resemble unique identifier columns and do not provide substantial predictive value.\n",
    "- Additionally, eliminate any columns from which the necessary features have already been extracted in the preceding step."
   ]
  },
  {
   "cell_type": "code",
   "execution_count": 100,
   "metadata": {
    "id": "9Fy0Rw1BDPWt"
   },
   "outputs": [],
   "source": [
    "# Drop redundant columns from training and validation data\n"
   ]
  },
  {
   "cell_type": "code",
   "execution_count": 101,
   "metadata": {
    "id": "RVYVBV27DPWt"
   },
   "outputs": [],
   "source": [
    "# Check the data\n"
   ]
  },
  {
   "cell_type": "markdown",
   "metadata": {
    "id": "SxA7dZ0UDPWt"
   },
   "source": [
    "### **6.4 Combine values in Categorical Columns** <font color=\"red\">[6 Marks]</font>\n",
    "During the EDA process, categorical columns with multiple unique values may be identified. To enhance model performance, it is essential to refine these categorical features by grouping values that have low frequency or provide limited predictive information.\n",
    "\n",
    "Combine categories that occur infrequently or exhibit similar behavior to reduce sparsity and improve model generalisation."
   ]
  },
  {
   "cell_type": "code",
   "execution_count": 103,
   "metadata": {
    "id": "-OF7Y35dDPWt"
   },
   "outputs": [],
   "source": [
    "# Combine categories that have low frequency or provide limited predictive information\n"
   ]
  },
  {
   "cell_type": "markdown",
   "metadata": {
    "id": "C2vnyJqYDPWt"
   },
   "source": [
    "### **6.5 Dummy variable creation** <font color=\"red\">[6 Marks]</font>\n",
    "Transform categorical variables into numerical representations using dummy variables. Ensure consistent encoding between training and validation data."
   ]
  },
  {
   "cell_type": "markdown",
   "metadata": {
    "id": "pQHnbRB_DPWt"
   },
   "source": [
    "#### **6.5.1** Identify categorical columns for dummy variable creation <font color=\"red\">[1 Mark]</font>"
   ]
  },
  {
   "cell_type": "code",
   "execution_count": 106,
   "metadata": {
    "id": "YCR73H4VDPWt"
   },
   "outputs": [],
   "source": [
    "# Identify the categorical columns for creating dummy variables\n"
   ]
  },
  {
   "cell_type": "markdown",
   "metadata": {
    "id": "ZcCgF0lsDPWu"
   },
   "source": [
    "#### **6.5.2** Create dummy variables for categorical columns in training data <font color=\"red\">[2 Marks]</font>"
   ]
  },
  {
   "cell_type": "code",
   "execution_count": 108,
   "metadata": {
    "id": "JA8seldpDPWu"
   },
   "outputs": [],
   "source": [
    "# Create dummy variables using the 'get_dummies' for categorical columns in training data\n"
   ]
  },
  {
   "cell_type": "markdown",
   "metadata": {
    "id": "cbLlOiYcDPWu"
   },
   "source": [
    "#### **6.5.3** Create dummy variables for categorical columns in validation data <font color=\"red\">[2 Marks]</font>"
   ]
  },
  {
   "cell_type": "code",
   "execution_count": 110,
   "metadata": {
    "id": "zvQ4n9yaDPWu"
   },
   "outputs": [],
   "source": [
    "# Create dummy variables using the 'get_dummies' for categorical columns in validation data\n"
   ]
  },
  {
   "cell_type": "markdown",
   "metadata": {
    "id": "tg5crIDKDPWu"
   },
   "source": [
    "#### **6.5.4** Create dummy variable for dependent feature in training and validation data <font color = \"red\">[1 Mark]</font>"
   ]
  },
  {
   "cell_type": "code",
   "execution_count": 112,
   "metadata": {
    "id": "LyreaJQXDPWu"
   },
   "outputs": [],
   "source": [
    "# Create dummy variable for dependent feature in training data\n",
    "\n",
    "# Create dummy variable for dependent feature in validation data\n"
   ]
  },
  {
   "cell_type": "markdown",
   "metadata": {
    "id": "USXyE8QSDPWu"
   },
   "source": [
    "### **6.6 Feature scaling** <font color = red>[3 marks]</font>\n",
    "Scale numerical features to a common range to prevent features with larger values from dominating the model.  Choose a scaling method appropriate for the data and the chosen model. Apply the same scaling to both training and validation data."
   ]
  },
  {
   "cell_type": "code",
   "execution_count": 114,
   "metadata": {
    "id": "VfE4LXqXDPWu"
   },
   "outputs": [],
   "source": [
    "# Import the necessary scaling tool from scikit-learn\n",
    "\n",
    "# Scale the numeric features present in the training data\n",
    "\n",
    "# Scale the numeric features present in the validation data\n"
   ]
  },
  {
   "cell_type": "markdown",
   "metadata": {
    "id": "pqIhEkpxDPWu"
   },
   "source": [
    "## **7. Model Building** <font color = red>[50 marks]</font>"
   ]
  },
  {
   "cell_type": "markdown",
   "metadata": {
    "id": "i2OLtpZWUmgS"
   },
   "source": [
    "In this task, you will be building two machine learning models: Logistic Regression and Random Forest. Each model will go through a structured process to ensure optimal performance. The key steps for each model are outlined below:\n",
    "\n",
    "**Logistic Regression Model**\n",
    "- Feature Selection using RFECV – Identify the most relevant features using Recursive Feature Elimination with Cross-Validation.\n",
    "- Model Building and Multicollinearity Assessment – Build the logistic regression model and analyse statistical aspects such as p-values and VIFs to detect multicollinearity.\n",
    "- Model Training and Evaluation on Training Data – Fit the model on the training data and assess initial performance.\n",
    "- Finding the Optimal Cutoff – Determine the best probability threshold by analysing the sensitivity-specificity tradeoff and precision-recall tradeoff.\n",
    "- FInal Prediction and Evaluation on Training Data using the Optimal Cutoff – Generate final predictions using the selected cutoff and evaluate model performance.\n",
    "\n",
    "**Random Forest Model**\n",
    "- Get Feature Importances - Obtain the importance scores for each feature and select the important features to train the model.\n",
    "- Model Evaluation on Training Data – Assess performance metrics on the training data.\n",
    "- Check Model Overfitting using Cross-Validation – Evaluate generalisation by performing cross-validation.\n",
    "- Hyperparameter Tuning using Grid Search – Optimise model performance by fine-tuning hyperparameters.\n",
    "- Final Model and Evaluation on Training Data – Train the final model using the best parameters and assess its performance."
   ]
  },
  {
   "cell_type": "markdown",
   "metadata": {
    "id": "DwQl23_eDPWx"
   },
   "source": [
    "### **7.1 Feature selection** <font color = red>[4 marks]</font>\n",
    "Identify and select the most relevant features for building a logistic regression model using Recursive Feature Elimination with Cross-Validation (RFECV)."
   ]
  },
  {
   "cell_type": "markdown",
   "metadata": {
    "id": "x7oRIQMhDPWy"
   },
   "source": [
    "#### **7.1.1** Import necessary libraries <font color=\"red\">[1 Mark]</font>"
   ]
  },
  {
   "cell_type": "code",
   "execution_count": 119,
   "metadata": {
    "id": "RzQF3EyIDPWy"
   },
   "outputs": [],
   "source": [
    "# Import necessary libraries\n"
   ]
  },
  {
   "cell_type": "markdown",
   "metadata": {
    "id": "j1sHmcZKDPWy"
   },
   "source": [
    "#### **7.1.2** Perform feature selection <font color=\"red\">[2 Mark]</font>"
   ]
  },
  {
   "cell_type": "code",
   "execution_count": 121,
   "metadata": {
    "id": "NKRnzy8sDPWy"
   },
   "outputs": [],
   "source": [
    "# Apply RFECV to identify the most relevant features\n"
   ]
  },
  {
   "cell_type": "code",
   "execution_count": 122,
   "metadata": {
    "id": "1I0kn-9qDPWy"
   },
   "outputs": [],
   "source": [
    "# Display the features ranking by RFECV in a DataFrame\n"
   ]
  },
  {
   "cell_type": "markdown",
   "metadata": {
    "id": "KKdXnylEDPWz"
   },
   "source": [
    "#### **7.1.2** Retain the selected features <font color=\"red\">[1 Mark]</font>"
   ]
  },
  {
   "cell_type": "code",
   "execution_count": 124,
   "metadata": {
    "id": "Q8TkAe72DPWz"
   },
   "outputs": [],
   "source": [
    "# Put columns selected by RFECV into variable 'col'\n"
   ]
  },
  {
   "cell_type": "markdown",
   "metadata": {
    "id": "J8zNEaKcDPWz"
   },
   "source": [
    "### **7.2 Build Logistic Regression Model** <font color = red>[12 marks]</font>\n",
    "After selecting the optimal features using RFECV, utilise these features to build a logistic regression model with Statsmodels. This approach enables a detailed statistical analysis of the model, including the assessment of p-values and Variance Inflation Factors (VIFs). Evaluating these metrics is crucial for detecting multicollinearity and ensuring that the selected predictors are not highly correlated."
   ]
  },
  {
   "cell_type": "markdown",
   "metadata": {
    "id": "xXwl9DO3DPWz"
   },
   "source": [
    "#### **7.2.1** Select relevant features and add constant in training data <font color=\"red\">[1 Mark]</font>"
   ]
  },
  {
   "cell_type": "code",
   "execution_count": 127,
   "metadata": {
    "id": "kF5g0yScDPWz"
   },
   "outputs": [],
   "source": [
    "# Select only the columns selected by RFECV\n"
   ]
  },
  {
   "cell_type": "code",
   "execution_count": 128,
   "metadata": {
    "id": "aBzSiNhrDPWz"
   },
   "outputs": [],
   "source": [
    "# Import statsmodels and add constant\n",
    "\n",
    "# Check the data\n"
   ]
  },
  {
   "cell_type": "markdown",
   "metadata": {
    "id": "jc9wYqe8DPW0"
   },
   "source": [
    "#### **7.2.2** Fit logistic regression model <font color=\"red\">[2 Marks]</font>"
   ]
  },
  {
   "cell_type": "code",
   "execution_count": 130,
   "metadata": {
    "id": "2VTpvsZsDPW0"
   },
   "outputs": [],
   "source": [
    "# Fit a logistic Regression model on X_train after adding a constant and output the summary\n"
   ]
  },
  {
   "cell_type": "markdown",
   "metadata": {
    "id": "XBd9hyWgDPW0"
   },
   "source": [
    "**Model Interpretation**\n",
    "\n",
    "The output summary table will provide the features used for building model along with coefficient of each of the feature and their p-value. The p-value in a logistic regression model is used to assess the statistical significance of each coefficient. Lesser the p-value, more significant the feature is in the model.\n",
    "\n",
    "A positive coefficient will indicate that an increase in the value of feature would increase the odds of the event occurring. On the other hand, a negative coefficient means the opposite, i.e, an increase in the value of feature would decrease the odds of the event occurring."
   ]
  },
  {
   "cell_type": "markdown",
   "metadata": {
    "id": "VnhgDNCNDPW0"
   },
   "source": [
    "Now check VIFs for presence of multicollinearity in the model."
   ]
  },
  {
   "cell_type": "markdown",
   "metadata": {
    "id": "xLTRjCqCDPW0"
   },
   "source": [
    "#### **7.2.3** Evaluate VIF of features to assess multicollinearity <font color=\"red\">[2 Marks]</font>"
   ]
  },
  {
   "cell_type": "code",
   "execution_count": 134,
   "metadata": {
    "id": "MOIppRgGDPW0"
   },
   "outputs": [],
   "source": [
    "# Import 'variance_inflation_factor'\n",
    "from statsmodels.stats.outliers_influence import variance_inflation_factor"
   ]
  },
  {
   "cell_type": "code",
   "execution_count": 135,
   "metadata": {
    "id": "Xwb2dA9XDPW0"
   },
   "outputs": [],
   "source": [
    "# Make a VIF DataFrame for all the variables present\n"
   ]
  },
  {
   "cell_type": "markdown",
   "metadata": {
    "id": "2RMrfSNPDPW1"
   },
   "source": [
    "Proceed to the next step if p-values and VIFs are within acceptable ranges. If you observe high p-values or VIFs, drop the features and retrain the model. <font color=\"red\">[THIS IS OPTIONAL]</font>"
   ]
  },
  {
   "cell_type": "markdown",
   "metadata": {
    "id": "68j2g6bRDPW1"
   },
   "source": [
    "#### **7.2.4** Make predictions on training data <font color = \"red\">[1 Mark]</font>"
   ]
  },
  {
   "cell_type": "code",
   "execution_count": 138,
   "metadata": {
    "id": "5DT1M3O9DPW1"
   },
   "outputs": [],
   "source": [
    "# Predict the probabilities on the training data\n",
    "\n",
    "# Reshape it into an array\n"
   ]
  },
  {
   "cell_type": "markdown",
   "metadata": {
    "id": "_j4gJDUzDPW1"
   },
   "source": [
    "#### **7.2.5** Create a DataFrame that includes actual fraud reported flags, predicted probabilities, and a column indicating predicted classifications based on a cutoff value of 0.5 <font color=\"red\">[1 Mark]</font>\n",
    "\n"
   ]
  },
  {
   "cell_type": "code",
   "execution_count": 140,
   "metadata": {
    "id": "nDaW7LS_DPW1"
   },
   "outputs": [],
   "source": [
    "# Create a new DataFrame containing the actual fraud reported flag and the probabilities predicted by the model\n",
    "\n",
    "# Create new column indicating predicted classifications based on a cutoff value of 0.5\n"
   ]
  },
  {
   "cell_type": "markdown",
   "metadata": {
    "id": "6rXpNOgtDPW1"
   },
   "source": [
    "**Model performance evaluation**\n",
    "\n",
    "Evaluate the performance of the model based on predictions made on the training data."
   ]
  },
  {
   "cell_type": "markdown",
   "metadata": {
    "id": "cornkRdjDPW2"
   },
   "source": [
    "#### **7.2.6** Check the accuracy of the model <font color = \"red\">[1 Mark]</font>"
   ]
  },
  {
   "cell_type": "code",
   "execution_count": 143,
   "metadata": {
    "id": "w0tyT2xgDPW2"
   },
   "outputs": [],
   "source": [
    "# Import metrics from sklearn for evaluation\n",
    "from sklearn import metrics\n",
    "\n",
    "# Check the accuracy of the model\n"
   ]
  },
  {
   "cell_type": "markdown",
   "metadata": {
    "id": "mQPieExsDPW2"
   },
   "source": [
    "#### **7.2.7** Create a confusion matrix based on the predictions made on the training data <font color=\"red\">[1 Mark]</font>"
   ]
  },
  {
   "cell_type": "code",
   "execution_count": 145,
   "metadata": {
    "id": "1v1XZbNkDPW2"
   },
   "outputs": [],
   "source": [
    "# Create confusion matrix\n"
   ]
  },
  {
   "cell_type": "markdown",
   "metadata": {
    "id": "CVWR_SjqKPQF"
   },
   "source": [
    "#### **7.2.8** Create variables for true positive, true negative, false positive and false negative <font color=\"red\">[1 Mark]</font>"
   ]
  },
  {
   "cell_type": "code",
   "execution_count": 147,
   "metadata": {
    "id": "JaXLtV-HKPgY"
   },
   "outputs": [],
   "source": [
    "# Create variables for true positive, true negative, false positive and false negative\n"
   ]
  },
  {
   "cell_type": "markdown",
   "metadata": {
    "id": "UkO5we1NDPW3"
   },
   "source": [
    "#### **7.2.9** Calculate sensitivity, specificity, precision, recall and F1-score <font color=\"red\">[2 Marks]</font>"
   ]
  },
  {
   "cell_type": "code",
   "execution_count": 149,
   "metadata": {
    "id": "K5GpJK5CDPW3"
   },
   "outputs": [],
   "source": [
    "# Calculate the sensitivity\n",
    "\n",
    "\n",
    "# Calculate the specificity\n",
    "\n",
    "\n",
    "# Calculate Precision\n",
    "\n",
    "\n",
    "# Calculate Recall\n",
    "\n",
    "\n",
    "# Calculate F1 Score\n"
   ]
  },
  {
   "cell_type": "markdown",
   "metadata": {
    "id": "gIFdLeULDPW4"
   },
   "source": [
    "### **7.3 Find the Optimal Cutoff** <font color = red>[12 marks]</font>\n",
    "Find the optimal cutoff to improve model performance by evaluating various cutoff values and their impact on relevant metrics."
   ]
  },
  {
   "cell_type": "markdown",
   "metadata": {
    "id": "-un_98BlDPW4"
   },
   "source": [
    "#### **7.3.1** Plot ROC Curve  to visualise the trade-off between true positive rate and false positive rate across different classification thresholds <font color=\"red\">[2 Marks]</font>"
   ]
  },
  {
   "cell_type": "code",
   "execution_count": 152,
   "metadata": {
    "id": "SfRY65pZDPW5"
   },
   "outputs": [],
   "source": [
    "# Import libraries or function to plot the ROC curve\n",
    "\n",
    "\n",
    "# Define ROC function\n"
   ]
  },
  {
   "cell_type": "code",
   "execution_count": 153,
   "metadata": {
    "id": "nGlAWkJDDPW6"
   },
   "outputs": [],
   "source": [
    "# Call the ROC function\n"
   ]
  },
  {
   "cell_type": "markdown",
   "metadata": {
    "id": "cFPV1EBDDPW6"
   },
   "source": [
    "**Sensitivity and Specificity tradeoff**\n",
    "\n",
    "After analysing the area under the curve of the ROC, check the sensitivity and specificity tradeoff to find the optimal cutoff point."
   ]
  },
  {
   "cell_type": "markdown",
   "metadata": {
    "id": "vjcQP2BzDPW6"
   },
   "source": [
    "#### **7.3.2** Predict on training data at various probability cutoffs <font color=\"red\">[1 Mark]</font>"
   ]
  },
  {
   "cell_type": "code",
   "execution_count": 156,
   "metadata": {
    "id": "t1UMUMNODPW6"
   },
   "outputs": [],
   "source": [
    "# Create columns with different probability cutoffs to explore the impact of cutoff on model performance\n"
   ]
  },
  {
   "cell_type": "markdown",
   "metadata": {
    "id": "0EFEKx21DPW6"
   },
   "source": [
    "#### **7.3.3** Plot accuracy, sensitivity, specificity at different values of probability cutoffs <font color=\"red\">[2 Marks]</font>"
   ]
  },
  {
   "cell_type": "code",
   "execution_count": 158,
   "metadata": {
    "id": "OsjuXoXtDPW6"
   },
   "outputs": [],
   "source": [
    "# Create a DataFrame to see the values of accuracy, sensitivity, and specificity at different values of probability cutoffs\n"
   ]
  },
  {
   "cell_type": "code",
   "execution_count": 159,
   "metadata": {
    "id": "z4og5facDPW7"
   },
   "outputs": [],
   "source": [
    "# Plot accuracy, sensitivity, and specificity at different values of probability cutoffs\n"
   ]
  },
  {
   "cell_type": "markdown",
   "metadata": {
    "id": "o6C-ScQ1DPW7"
   },
   "source": [
    "#### **7.3.4** Create a column for final prediction based on optimal cutoff <font color=\"red\">[1 Mark]</font>"
   ]
  },
  {
   "cell_type": "code",
   "execution_count": 161,
   "metadata": {
    "id": "1p-z0A9wDPW7"
   },
   "outputs": [],
   "source": [
    "# Create a column for final prediction based on the optimal cutoff\n"
   ]
  },
  {
   "cell_type": "markdown",
   "metadata": {
    "id": "8jEQC7QlDPW7"
   },
   "source": [
    "#### **7.3.5** Calculate the accuracy <font color=\"red\">[1 Mark]</font>"
   ]
  },
  {
   "cell_type": "code",
   "execution_count": 163,
   "metadata": {
    "id": "-XARhijiDPW7"
   },
   "outputs": [],
   "source": [
    "# Check the accuracy now\n"
   ]
  },
  {
   "cell_type": "markdown",
   "metadata": {
    "id": "qsgvpYa3DPW-"
   },
   "source": [
    "#### **7.3.6** Create confusion matrix <font color=\"red\">[1 Mark]</font>"
   ]
  },
  {
   "cell_type": "code",
   "execution_count": 165,
   "metadata": {
    "id": "tuRtey6YDPW-"
   },
   "outputs": [],
   "source": [
    "# Create the confusion matrix once again\n"
   ]
  },
  {
   "cell_type": "markdown",
   "metadata": {
    "id": "Nbfa0CsbDPW-"
   },
   "source": [
    "#### **7.3.7** Create variables for true positive, true negative, false positive and false negative <font color=\"red\">[1 Mark]</font>"
   ]
  },
  {
   "cell_type": "code",
   "execution_count": 167,
   "metadata": {
    "id": "xAQncHXtDPW_"
   },
   "outputs": [],
   "source": [
    "# Create variables for true positive, true negative, false positive and false negative\n"
   ]
  },
  {
   "cell_type": "markdown",
   "metadata": {
    "id": "z7KXFHRnDPW_"
   },
   "source": [
    "#### **7.3.8** Calculate sensitivity, specificity, precision, recall and F1-score of the model <font color=\"red\">[2 Mark]</font>"
   ]
  },
  {
   "cell_type": "code",
   "execution_count": 169,
   "metadata": {
    "id": "958ly8K8DPW_"
   },
   "outputs": [],
   "source": [
    "# Calculate the sensitivity\n",
    "\n",
    "\n",
    "# Calculate the specificity\n",
    "\n",
    "\n",
    "# Calculate Precision\n",
    "\n",
    "\n",
    "# Calculate Recall\n",
    "\n",
    "\n",
    "# Calculate F1 Score\n"
   ]
  },
  {
   "cell_type": "markdown",
   "metadata": {
    "id": "_dNjDGtNDPXA"
   },
   "source": [
    "**Precision and Recall tradeoff**\n",
    "\n",
    "Check optimal cutoff value by plotting precision-recall curve, and adjust the cutoff based on precision and recall tradeoff if required."
   ]
  },
  {
   "cell_type": "code",
   "execution_count": 171,
   "metadata": {
    "id": "HGKKbLQgDPXA"
   },
   "outputs": [],
   "source": [
    "# Import precision-recall curve function\n",
    "from sklearn.metrics import precision_recall_curve"
   ]
  },
  {
   "cell_type": "markdown",
   "metadata": {
    "id": "G4_-ZTXYDPXB"
   },
   "source": [
    "#### **7.3.9** Plot precision-recall curve <font color=\"red\">[1 Mark]</font>"
   ]
  },
  {
   "cell_type": "code",
   "execution_count": 173,
   "metadata": {
    "id": "Wj2qr5FSDPXB"
   },
   "outputs": [],
   "source": [
    "# Plot precision-recall curve\n"
   ]
  },
  {
   "cell_type": "markdown",
   "metadata": {
    "id": "VdNY3cNPDPXB"
   },
   "source": [
    "### **7.4 Build Random Forest Model** <font color = red>[12 marks]</font>\n",
    "Now that you have built a logistic regression model, let's move on to building a random forest model."
   ]
  },
  {
   "cell_type": "markdown",
   "metadata": {
    "id": "sS2Hc10fDPXC"
   },
   "source": [
    "#### **7.4.1** Import necessary libraries"
   ]
  },
  {
   "cell_type": "code",
   "execution_count": 176,
   "metadata": {
    "id": "S6duSoHlDPXC"
   },
   "outputs": [],
   "source": [
    "# Import necessary libraries\n",
    "from sklearn.ensemble import RandomForestClassifier\n",
    "from sklearn.metrics import classification_report\n",
    "from sklearn.model_selection import cross_val_score, GridSearchCV"
   ]
  },
  {
   "cell_type": "markdown",
   "metadata": {
    "id": "7Euc5ukLDPXC"
   },
   "source": [
    "#### **7.4.2** Build the random forest model <font color=\"red\">[1 Mark]</font>"
   ]
  },
  {
   "cell_type": "code",
   "execution_count": 178,
   "metadata": {
    "id": "3ouCc_YFDPXC"
   },
   "outputs": [],
   "source": [
    "# Build a base random forest model\n"
   ]
  },
  {
   "cell_type": "markdown",
   "metadata": {
    "id": "wr3ExsTgUSKl"
   },
   "source": [
    "#### **7.4.3** Get feature importance scores and select important features <font color=\"red\">[2 Marks]</font>"
   ]
  },
  {
   "cell_type": "code",
   "execution_count": 180,
   "metadata": {
    "id": "eSnQ3xQL__gV"
   },
   "outputs": [],
   "source": [
    "# Get feature importance scores from the trained model\n",
    "\n",
    "# Create a DataFrame to visualise the importance scores\n"
   ]
  },
  {
   "cell_type": "code",
   "execution_count": 181,
   "metadata": {
    "id": "yQIR2yUqxNVI"
   },
   "outputs": [],
   "source": [
    "# Select features with high importance scores\n",
    "\n",
    "# Create a new training data with only the selected features\n"
   ]
  },
  {
   "cell_type": "markdown",
   "metadata": {
    "id": "wTzZ1YnhU9Dt"
   },
   "source": [
    "#### **7.4.4** Train the model with selected features <font color=\"red\">[1 Mark]</font>"
   ]
  },
  {
   "cell_type": "code",
   "execution_count": 183,
   "metadata": {
    "id": "IeU6JcgJUnPs"
   },
   "outputs": [],
   "source": [
    "# Fit the model on the training data with selected features\n"
   ]
  },
  {
   "cell_type": "markdown",
   "metadata": {
    "id": "g_5Fk-9bDPXG"
   },
   "source": [
    "#### **7.4.5** Generate predictions on the training data <font color=\"red\">[1 Mark]</font>"
   ]
  },
  {
   "cell_type": "code",
   "execution_count": 185,
   "metadata": {
    "id": "TO6AGoPFDPXG"
   },
   "outputs": [],
   "source": [
    "# Generate predictions on training data\n"
   ]
  },
  {
   "cell_type": "markdown",
   "metadata": {
    "id": "I5ApUsKlDPXH"
   },
   "source": [
    "#### **7.4.6** Check accuracy of the model <font color=\"red\">[1 Mark]</font>"
   ]
  },
  {
   "cell_type": "code",
   "execution_count": 187,
   "metadata": {
    "id": "t2zmn36dDPXH"
   },
   "outputs": [],
   "source": [
    "# Check accuracy of the model\n"
   ]
  },
  {
   "cell_type": "markdown",
   "metadata": {
    "id": "Z_e5FElrDPXH"
   },
   "source": [
    "#### **7.4.7** Create confusion matrix <font color=\"red\">[1 Mark]</font>"
   ]
  },
  {
   "cell_type": "code",
   "execution_count": 189,
   "metadata": {
    "id": "NJIGPNTaDPXI"
   },
   "outputs": [],
   "source": [
    "# Create the confusion matrix to visualise the performance\n"
   ]
  },
  {
   "cell_type": "markdown",
   "metadata": {
    "id": "rY3mFM8CDPXI"
   },
   "source": [
    "#### **7.4.8** Create variables for true positive, true negative, false positive and false negative <font color=\"red\">[1 Mark]</font>"
   ]
  },
  {
   "cell_type": "code",
   "execution_count": 191,
   "metadata": {
    "id": "l9Ehc0vcDPXI"
   },
   "outputs": [],
   "source": [
    "# Create variables for true positive, true negative, false positive and false negative\n"
   ]
  },
  {
   "cell_type": "markdown",
   "metadata": {
    "id": "_NSOsFxRDPXJ"
   },
   "source": [
    "#### **7.4.9** Calculate sensitivity, specificity, precision, recall and F1-score of the model <font color=\"red\">[2 Marks]</font>"
   ]
  },
  {
   "cell_type": "code",
   "execution_count": 193,
   "metadata": {
    "id": "M3wJsKu3DPXJ"
   },
   "outputs": [],
   "source": [
    "# Calculate the sensitivity\n",
    "\n",
    "\n",
    "# Calculate the specificity\n",
    "\n",
    "\n",
    "# Calculate Precision\n",
    "\n",
    "\n",
    "# Calculate Recall\n",
    "\n",
    "\n",
    "# Calculate F1 Score\n"
   ]
  },
  {
   "cell_type": "markdown",
   "metadata": {
    "id": "b6Jax54VDPXJ"
   },
   "source": [
    "#### **7.4.10** Check if the model is overfitting training data using cross validation <font color = \"red\">[2 marks]</font>"
   ]
  },
  {
   "cell_type": "code",
   "execution_count": 195,
   "metadata": {
    "id": "42-huob6DPXJ"
   },
   "outputs": [],
   "source": [
    "# Use cross validation to check if the model is overfitting\n"
   ]
  },
  {
   "cell_type": "markdown",
   "metadata": {
    "id": "sNxYrAKZDPXJ"
   },
   "source": [
    "### **7.5 Hyperparameter Tuning** <font color = red>[10 Marks]</font>\n",
    " Enhance the performance of the random forest model by systematically exploring and selecting optimal hyperparameter values using grid search."
   ]
  },
  {
   "cell_type": "markdown",
   "metadata": {
    "id": "UnBcYjbQDPXK"
   },
   "source": [
    "#### **7.5.1** Use grid search to find the best hyperparameter values <font color = red>[2 Marks]</font>"
   ]
  },
  {
   "cell_type": "code",
   "execution_count": 198,
   "metadata": {
    "id": "LTLCDfb4DPXK"
   },
   "outputs": [],
   "source": [
    "# Use grid search to find the best hyperparamter values\n",
    "\n",
    "# Best Hyperparameters\n"
   ]
  },
  {
   "cell_type": "markdown",
   "metadata": {
    "id": "vrGoY46TDPXK"
   },
   "source": [
    "#### **7.5.2** Build a random forest model based on hyperparameter tuning results <font color = red>[1 Mark]</font>"
   ]
  },
  {
   "cell_type": "code",
   "execution_count": 200,
   "metadata": {
    "id": "2yxPaaDxDPXK"
   },
   "outputs": [],
   "source": [
    "# Building random forest model based on results of hyperparameter tuning\n"
   ]
  },
  {
   "cell_type": "markdown",
   "metadata": {
    "id": "IJ4gQ2m0DPXK"
   },
   "source": [
    "#### **7.5.3** Make predictions on training data <font color = red>[1 Mark]</font>"
   ]
  },
  {
   "cell_type": "code",
   "execution_count": 202,
   "metadata": {
    "id": "hTE3p2rCDPXL"
   },
   "outputs": [],
   "source": [
    "# Make predictions on training data\n"
   ]
  },
  {
   "cell_type": "markdown",
   "metadata": {
    "id": "fbfSJpEuDPXL"
   },
   "source": [
    "#### **7.5.4** Check accuracy of Random Forest Model <font color = red>[1 Mark]</font>"
   ]
  },
  {
   "cell_type": "code",
   "execution_count": 204,
   "metadata": {
    "id": "ItpV-JYkDPXL"
   },
   "outputs": [],
   "source": [
    "# Check the accuracy\n"
   ]
  },
  {
   "cell_type": "markdown",
   "metadata": {
    "id": "l-t6Hme3DPXL"
   },
   "source": [
    "#### **7.5.5** Create confusion matrix <font color = red>[1 Mark]</font>"
   ]
  },
  {
   "cell_type": "code",
   "execution_count": 206,
   "metadata": {
    "id": "MdteUZXzDPXL"
   },
   "outputs": [],
   "source": [
    "# Create the confusion matrix\n"
   ]
  },
  {
   "cell_type": "markdown",
   "metadata": {
    "id": "jEUtsRafDPXL"
   },
   "source": [
    "#### **7.5.6** Create variables for true positive, true negative, false positive and false negative <font color = red>[1 Mark]</font>"
   ]
  },
  {
   "cell_type": "code",
   "execution_count": 208,
   "metadata": {
    "id": "0aeUhFSWDPXM"
   },
   "outputs": [],
   "source": [
    "# Create variables for true positive, true negative, false positive and false negative\n"
   ]
  },
  {
   "cell_type": "markdown",
   "metadata": {
    "id": "nwDnBdjnDPXM"
   },
   "source": [
    "#### **7.5.7** Calculate sensitivity, specificity, precision, recall and F1-score of the model <font color = red>[3 Marks]</font>"
   ]
  },
  {
   "cell_type": "code",
   "execution_count": 210,
   "metadata": {
    "id": "KxPHj1NjDPXM"
   },
   "outputs": [],
   "source": [
    "# Calculate the sensitivity\n",
    "\n",
    "\n",
    "# Calculate the specificity\n",
    "\n",
    "\n",
    "# Calculate Precision\n",
    "\n",
    "\n",
    "# Calculate Recall\n",
    "\n",
    "\n",
    "# Calculate F1-Score\n"
   ]
  },
  {
   "cell_type": "markdown",
   "metadata": {
    "id": "yUEvyADyDPXM"
   },
   "source": [
    "## **8. Prediction and Model Evaluation** <font color = red>[20 marks]</font>\n",
    "Use the model from the previous step to make predictions on the validation data with the optimal cutoff. Then evaluate the model's performance using metrics such as accuracy, sensitivity, specificity, precision, and recall."
   ]
  },
  {
   "cell_type": "markdown",
   "metadata": {
    "id": "EQuMB-P1DPXM"
   },
   "source": [
    "### **8.1 Make predictions over validation data using logistic regression model** <font color = red>[10 marks]</font>"
   ]
  },
  {
   "cell_type": "markdown",
   "metadata": {
    "id": "Wuz5v3TYDPXM"
   },
   "source": [
    "#### **8.1.1** Select relevant features for validation data and add constant <font color=\"red\">[1 Mark]</font>"
   ]
  },
  {
   "cell_type": "code",
   "execution_count": 214,
   "metadata": {
    "id": "_AbB-x3aDPXM"
   },
   "outputs": [],
   "source": [
    "# Select the relevant features for validation data\n",
    "\n",
    "# Add constant to X_validation\n"
   ]
  },
  {
   "cell_type": "markdown",
   "metadata": {
    "id": "pzpawlMLDPXM"
   },
   "source": [
    "#### **8.1.2** Make predictions over validation data <font color=\"red\">[1 Mark]</font>"
   ]
  },
  {
   "cell_type": "code",
   "execution_count": 216,
   "metadata": {
    "id": "9CmoAZJODPXM"
   },
   "outputs": [],
   "source": [
    "# Make predictions on the validation data and store it in the variable 'y_validation_pred'\n"
   ]
  },
  {
   "cell_type": "markdown",
   "metadata": {
    "id": "r8qyn8xvDPXM"
   },
   "source": [
    "#### **8.1.3** Create DataFrame with actual values and predicted values for validation data <font color=\"red\">[2 Marks]</font>"
   ]
  },
  {
   "cell_type": "code",
   "execution_count": 218,
   "metadata": {
    "id": "9Zx8RBFVDPXN"
   },
   "outputs": [],
   "source": [
    "#  Create DataFrame with actual values and predicted values for validation data\n"
   ]
  },
  {
   "cell_type": "markdown",
   "metadata": {
    "id": "G_kC6wEPDPXN"
   },
   "source": [
    "#### **8.1.4** Make final prediction based on cutoff value <font color=\"red\">[1 Mark]</font>"
   ]
  },
  {
   "cell_type": "code",
   "execution_count": 220,
   "metadata": {
    "id": "4ge-EC74DPXN"
   },
   "outputs": [],
   "source": [
    "# Make final predictions on the validation data using the optimal cutoff\n"
   ]
  },
  {
   "cell_type": "markdown",
   "metadata": {
    "id": "bt7sm55QDPXN"
   },
   "source": [
    "#### **8.1.5** Check the accuracy of logistic regression model on validation data <font color=\"red\">[1 Mark]</font>"
   ]
  },
  {
   "cell_type": "code",
   "execution_count": 222,
   "metadata": {
    "id": "81tEKwwsDPXN"
   },
   "outputs": [],
   "source": [
    "# Check the accuracy\n"
   ]
  },
  {
   "cell_type": "markdown",
   "metadata": {
    "id": "RE8ZnagdDPXN"
   },
   "source": [
    "#### **8.1.6** Create confusion matrix <font color=\"red\">[1 Mark]</font>"
   ]
  },
  {
   "cell_type": "code",
   "execution_count": 224,
   "metadata": {
    "id": "NjkkexqrDPXN"
   },
   "outputs": [],
   "source": [
    "# Create the confusion matrix\n"
   ]
  },
  {
   "cell_type": "markdown",
   "metadata": {
    "id": "SSqBZOrYDPXN"
   },
   "source": [
    "#### **8.1.7** Create variables for true positive, true negative, false positive and false negative <font color=\"red\">[1 Mark]</font>"
   ]
  },
  {
   "cell_type": "code",
   "execution_count": 226,
   "metadata": {
    "id": "NzH_sFeoDPXN"
   },
   "outputs": [],
   "source": [
    "# Create variables for true positive, true negative, false positive and false negative\n"
   ]
  },
  {
   "cell_type": "markdown",
   "metadata": {
    "id": "_Mkn6DUwDPXN"
   },
   "source": [
    "#### **8.1.8** Calculate sensitivity, specificity, precision, recall and f1 score of the model <font color=\"red\">[2 Marks]</font>"
   ]
  },
  {
   "cell_type": "code",
   "execution_count": 228,
   "metadata": {
    "id": "FCqNW4t3DPXO"
   },
   "outputs": [],
   "source": [
    "# Calculate the sensitivity\n",
    "\n",
    "\n",
    "# Calculate the specificity\n",
    "\n",
    "\n",
    "# Calculate Precision\n",
    "\n",
    "\n",
    "# Calculate Recall\n",
    "\n",
    "\n",
    "# Calculate F1 Score\n"
   ]
  },
  {
   "cell_type": "markdown",
   "metadata": {
    "id": "1wTVm8V_DPXO"
   },
   "source": [
    "### **8.2 Make predictions over validation data using random forest model** <font color = red>[10 marks]</font>"
   ]
  },
  {
   "cell_type": "markdown",
   "metadata": {
    "id": "UDgbDTfIDPXO"
   },
   "source": [
    "#### **8.2.1** Select the important features and make predictions over validation data <font color=\"red\">[2 Marks]</font>"
   ]
  },
  {
   "cell_type": "code",
   "execution_count": 231,
   "metadata": {
    "id": "RhtKprsQDPXO"
   },
   "outputs": [],
   "source": [
    "# Select the relevant features for validation data\n",
    "\n",
    "# Make predictions on the validation data\n"
   ]
  },
  {
   "cell_type": "markdown",
   "metadata": {
    "id": "bUbtP7CADPXO"
   },
   "source": [
    "#### **8.2.2** Check accuracy of random forest model <font color=\"red\">[1 Mark]</font>"
   ]
  },
  {
   "cell_type": "code",
   "execution_count": 233,
   "metadata": {
    "id": "bJyVOpLlDPXO"
   },
   "outputs": [],
   "source": [
    "# Check accuracy\n"
   ]
  },
  {
   "cell_type": "markdown",
   "metadata": {
    "id": "spUa4VBfDPXO"
   },
   "source": [
    "#### **8.2.3** Create confusion matrix <font color=\"red\">[1 Mark]</font>"
   ]
  },
  {
   "cell_type": "code",
   "execution_count": 235,
   "metadata": {
    "id": "eXJVNVrSDPXO"
   },
   "outputs": [],
   "source": [
    "# Create the confusion matrix\n"
   ]
  },
  {
   "cell_type": "markdown",
   "metadata": {
    "id": "HuUdgVYSDPXO"
   },
   "source": [
    "#### **8.2.4** Create variables for true positive, true negative, false positive and false negative <font color=\"red\">[1 Mark]</font>"
   ]
  },
  {
   "cell_type": "code",
   "execution_count": 237,
   "metadata": {
    "id": "UT7lU5CWDPXO"
   },
   "outputs": [],
   "source": [
    "# Create variables for true positive, true negative, false positive and false negative\n"
   ]
  },
  {
   "cell_type": "markdown",
   "metadata": {
    "id": "YAjovvF4DPXO"
   },
   "source": [
    "#### **8.2.5** Calculate sensitivity, specificity, precision, recall and F1-score of the model <font color=\"red\">[5 Marks]</font>"
   ]
  },
  {
   "cell_type": "code",
   "execution_count": 239,
   "metadata": {
    "id": "C1PYzDaWDPXO"
   },
   "outputs": [],
   "source": [
    "# Calculate Sensitivity\n",
    "\n",
    "\n",
    "# Calculate Specificity\n",
    "\n",
    "\n",
    "# Calculate Precision\n",
    "\n",
    "\n",
    "# Calculate Recall\n",
    "\n",
    "\n",
    "# Calculate F1-score\n"
   ]
  },
  {
   "cell_type": "markdown",
   "metadata": {
    "id": "nENAdFWhDPXP"
   },
   "source": [
    "## **Evaluation and Conclusion**\n",
    "Write the conclusion."
   ]
  }
 ],
 "metadata": {
  "colab": {
   "provenance": [
    {
     "file_id": "1SIhxHs7kl3qt0VU3gGAAt_k_NQTvuqmc",
     "timestamp": 1740041215388
    },
    {
     "file_id": "1wef6jk_PrklarfJ5GA9FoyCAiKkArPCw",
     "timestamp": 1739780524071
    }
   ],
   "toc_visible": true
  },
  "kernelspec": {
   "display_name": "Python [conda env:base] *",
   "language": "python",
   "name": "conda-base-py"
  },
  "language_info": {
   "codemirror_mode": {
    "name": "ipython",
    "version": 3
   },
   "file_extension": ".py",
   "mimetype": "text/x-python",
   "name": "python",
   "nbconvert_exporter": "python",
   "pygments_lexer": "ipython3",
   "version": "3.12.7"
  }
 },
 "nbformat": 4,
 "nbformat_minor": 4
}
